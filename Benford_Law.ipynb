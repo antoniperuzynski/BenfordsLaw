{
  "cells": [
    {
      "cell_type": "markdown",
      "id": "58d57a10",
      "metadata": {
        "id": "58d57a10"
      },
      "source": [
        "# Prawo Benforda\n",
        "## Antoni Perużyński"
      ]
    },
    {
      "cell_type": "markdown",
      "id": "95aa379c",
      "metadata": {
        "id": "95aa379c"
      },
      "source": [
        "## Imports"
      ]
    },
    {
      "cell_type": "code",
      "execution_count": 41,
      "id": "13f54e38",
      "metadata": {
        "id": "13f54e38"
      },
      "outputs": [],
      "source": [
        "#pip install sigfig\n",
        "\n",
        "import numpy as np\n",
        "import pandas as pd\n",
        "import matplotlib.pyplot as plt\n",
        "import math"
      ]
    },
    {
      "cell_type": "code",
      "source": [
        "def toInterval10To100(x): \n",
        "  while (x<10 or x>=100):\n",
        "    if x < 10:\n",
        "      x *=10\n",
        "    elif x >= 100:\n",
        "      x/=10\n",
        "  return x"
      ],
      "metadata": {
        "id": "GynEgnj7q5jU"
      },
      "id": "GynEgnj7q5jU",
      "execution_count": 42,
      "outputs": []
    },
    {
      "cell_type": "code",
      "source": [
        "from scipy.stats import variation \n",
        "\n",
        "def stats (data):\n",
        "  print(\"Mean\", data.mean())\n",
        "  print(\"Varation\", data.var())\n",
        "  print(\"Std\", data.std())\n",
        "  print(\"Median\", data.median())\n",
        "  print(\"Mode\", data.mode())\n",
        "  print(\"Skew\", data.skew())\n",
        "  print(\"Kurtosis\", data.kurtosis())\n",
        "  print(\"Variation\", variation(data))"
      ],
      "metadata": {
        "id": "7KJRbhj7sJ1T"
      },
      "id": "7KJRbhj7sJ1T",
      "execution_count": 43,
      "outputs": []
    },
    {
      "cell_type": "markdown",
      "id": "47458996",
      "metadata": {
        "id": "47458996"
      },
      "source": [
        "## Testy statystyczne"
      ]
    },
    {
      "cell_type": "markdown",
      "id": "4b7326e8",
      "metadata": {
        "id": "4b7326e8"
      },
      "source": [
        "### Test zgodności Chi^2"
      ]
    },
    {
      "cell_type": "code",
      "execution_count": 69,
      "id": "0314e5b5",
      "metadata": {
        "id": "0314e5b5"
      },
      "outputs": [],
      "source": [
        "def chi2 (theoryDist, expDist):\n",
        "    chiSquareStat = 0\n",
        "    for i in range(len(theoryDist)):\n",
        "        chiSquareStat += (expDist[i]-theoryDist[i])**2/theoryDist[i]\n",
        "    #print(\"\\nChi-squared Test Statistic = {:.3f}\".format(chiSquareStat))   \n",
        "    return chiSquareStat"
      ]
    },
    {
      "cell_type": "markdown",
      "id": "31bf179b",
      "metadata": {
        "id": "31bf179b"
      },
      "source": [
        "### Test dla wskaźnika struktury"
      ]
    },
    {
      "cell_type": "code",
      "execution_count": 46,
      "id": "b9b3f0b0",
      "metadata": {
        "id": "b9b3f0b0"
      },
      "outputs": [],
      "source": [
        "# def structureIndicator(theoryDist, expDist):\n",
        "#     strIndStat = 0\n",
        "#     for i in range(len(theoryDist)):\n",
        "#         strIndStat +=\n",
        "#     return strIndStat"
      ]
    },
    {
      "cell_type": "markdown",
      "id": "a3a4a0ec",
      "metadata": {
        "id": "a3a4a0ec"
      },
      "source": [
        "### Test Kołmogorowa-Smirnowa"
      ]
    },
    {
      "cell_type": "code",
      "execution_count": 47,
      "id": "b695a3b7",
      "metadata": {
        "id": "b695a3b7"
      },
      "outputs": [],
      "source": [
        "def KolmogorowSmirnow(theoryDist, expDist, n):\n",
        "    KSStat = math.sqrt(n)\n",
        "    tD = np.cumsum(theoryDist)\n",
        "    eD = np.cumsum(expDist)\n",
        "    D=max(np.absolute(np.array(tD)-np.array(eD)))\n",
        "    KSStat *= D\n",
        "    return KSStat"
      ]
    },
    {
      "cell_type": "markdown",
      "source": [
        "### Test Podobieństwa"
      ],
      "metadata": {
        "id": "uEJg_vHc083O"
      },
      "id": "uEJg_vHc083O"
    },
    {
      "cell_type": "code",
      "source": [
        "def Measure_Similaristy_1(data_percentage, benford_list_probability):\n",
        "    probability_measure_similaristy_list_1 =[]\n",
        "    M1 = 0\n",
        "    sum = 0\n",
        "    \n",
        "    for i in range(len(benford_list_probability)):\n",
        "        probability_measure_similaristy_list_1.append(benford_list_probability[i]*100)\n",
        "    \n",
        "    for i in range(len(benford_list_probability)):\n",
        "        sum += math.fabs((data_percentage[i]-probability_measure_similaristy_list_1[i])/probability_measure_similaristy_list_1[i])\n",
        "        \n",
        "    \n",
        "    M1 = (100/len(data_percentage))*sum\n",
        "    \n",
        "    \n",
        "    return M1"
      ],
      "metadata": {
        "id": "gHjTldVH1AEX"
      },
      "id": "gHjTldVH1AEX",
      "execution_count": null,
      "outputs": []
    },
    {
      "cell_type": "code",
      "source": [
        "def Measure_Similaristy_2(data_percentage, benford_list_probability):\n",
        "    probability_measure_similaristy_list_2 =[]\n",
        "    M2 = 0\n",
        "    sum = 0\n",
        "    \n",
        "    for i in range(len(benford_list_probability)):\n",
        "        probability_measure_similaristy_list_2.append(benford_list_probability[i]*100)\n",
        "    \n",
        "    for i in range(len(benford_list_probability)):\n",
        "        sum += math.pow((data_percentage[i]-probability_measure_similaristy_list_2[i]),2)\n",
        "        \n",
        "    \n",
        "    M2 = (math.sqrt(sum)/len(data_percentage))\n",
        "    \n",
        "    \n",
        "    return M2"
      ],
      "metadata": {
        "id": "jjSdp-4s1AH2"
      },
      "id": "jjSdp-4s1AH2",
      "execution_count": null,
      "outputs": []
    },
    {
      "cell_type": "code",
      "source": [
        "def Measure_Similaristy_3(data_percentage, benford_list_probability):\n",
        "    probability_measure_similaristy_list_3 =[]\n",
        "    M3 = 0\n",
        "    sum = 0\n",
        "    \n",
        "    for i in range(len(benford_list_probability)):\n",
        "        probability_measure_similaristy_list_3.append(benford_list_probability[i]*100)\n",
        "    \n",
        "    for i in range(len(benford_list_probability)):\n",
        "        sum += math.pow((data_percentage[i]-probability_measure_similaristy_list_3[i]),2)\n",
        "        \n",
        "    \n",
        "    M3 = (math.sqrt(sum/len(data_percentage)))\n",
        "    \n",
        "    \n",
        "    return M3"
      ],
      "metadata": {
        "id": "MU8xCtHp1ALd"
      },
      "id": "MU8xCtHp1ALd",
      "execution_count": null,
      "outputs": []
    },
    {
      "cell_type": "markdown",
      "id": "1dda2fab",
      "metadata": {
        "id": "1dda2fab"
      },
      "source": [
        "### Test Odległości "
      ]
    },
    {
      "cell_type": "code",
      "execution_count": 48,
      "id": "366b610c",
      "metadata": {
        "id": "366b610c"
      },
      "outputs": [],
      "source": [
        "def distanceTest(theoryDist, expDist):\n",
        "    return max(np.absolute(np.array(theoryDist)-np.array(expDist)))"
      ]
    },
    {
      "cell_type": "markdown",
      "id": "37f1a954",
      "metadata": {
        "id": "37f1a954"
      },
      "source": [
        "## Load data"
      ]
    },
    {
      "cell_type": "code",
      "execution_count": 49,
      "id": "9e06d4fb",
      "metadata": {
        "id": "9e06d4fb"
      },
      "outputs": [],
      "source": [
        "def load_data(filename):\n",
        "        df=pd.read_excel(filename)\n",
        "        return df"
      ]
    },
    {
      "cell_type": "markdown",
      "id": "f721b4e1",
      "metadata": {
        "id": "f721b4e1"
      },
      "source": [
        "## Benford digits"
      ]
    },
    {
      "cell_type": "code",
      "execution_count": 50,
      "id": "0c0413d6",
      "metadata": {
        "id": "0c0413d6"
      },
      "outputs": [],
      "source": [
        "def count_first_digit(data):\n",
        "    # Get only non-zero values\n",
        "    data = data[data>=1]\n",
        "\n",
        "    # Get the first digits\n",
        "    first_digits = list(map(lambda x: int(str(x)[0]), data))\n",
        "    \n",
        "    \n",
        "    # Count occurences. Make sure every position is for [1-9]\n",
        "    empirical_counts = np.zeros(9)\n",
        "    digit = []\n",
        "    for i in range(1, 10):\n",
        "        empirical_counts[i - 1] = first_digits.count(i)\n",
        "        digit.append(i)\n",
        "\n",
        "    # Total amount\n",
        "    total_count = sum(empirical_counts)\n",
        "    # Make percentage\n",
        "    empirical_frequency = [(i / total_count) for i in empirical_counts]\n",
        "    # Return\n",
        "    return(empirical_counts, empirical_frequency, total_count, digit)"
      ]
    },
    {
      "cell_type": "code",
      "execution_count": 51,
      "id": "c223fc90",
      "metadata": {
        "id": "c223fc90"
      },
      "outputs": [],
      "source": [
        "def count_second_digit(data):\n",
        "    # Get only non-zero values\n",
        "    data = data[data>=0]\n",
        "\n",
        "    # Get the first digits\n",
        "    dataMore10 = data[data>=10]\n",
        "    second_digits = list(map(lambda x: int(str(x)[1]), dataMore10))\n",
        "    for i in data[data<10]:\n",
        "        second_digits.append(0)\n",
        "    \n",
        "    \n",
        "    # Count occurences. Make sure every position is for [1-9]\n",
        "    empirical_counts = np.zeros(10)\n",
        "    digit = []\n",
        "    for i in range(0, 10):\n",
        "        empirical_counts[i] = second_digits.count(i)\n",
        "        digit.append(i)\n",
        "\n",
        "    # Total amount\n",
        "    total_count = sum(empirical_counts)\n",
        "    # Make percentage\n",
        "    empirical_frequency = [(i / total_count) for i in empirical_counts]\n",
        "    # Return\n",
        "    return(empirical_counts, empirical_frequency, total_count, digit)"
      ]
    },
    {
      "cell_type": "code",
      "execution_count": 52,
      "id": "0e84c805",
      "metadata": {
        "id": "0e84c805"
      },
      "outputs": [],
      "source": [
        "def count_two_first_digit(data):\n",
        "    # Get only non-zero values\n",
        "    data = data[data>=0]\n",
        "\n",
        "    # Get the first digits\n",
        "    dataMore10 = data[data>=10]\n",
        "    second_digits = list(map(lambda x: int(str(x)[:2]), dataMore10))\n",
        "\n",
        "    # Count occurences. Make sure every position is for [1-9]\n",
        "    empirical_counts = np.zeros(90)\n",
        "    digit = []\n",
        "    for i in range(10, 100):\n",
        "        empirical_counts[i-10] = second_digits.count(i)\n",
        "        digit.append(i)\n",
        "\n",
        "    # Total amount\n",
        "    total_count = sum(empirical_counts)\n",
        "    # Make percentage\n",
        "    empirical_frequency = [(i / total_count) for i in empirical_counts]\n",
        "    # Return\n",
        "    return(empirical_counts, empirical_frequency, total_count, digit)"
      ]
    },
    {
      "cell_type": "code",
      "execution_count": 53,
      "id": "48cf78ee",
      "metadata": {
        "id": "48cf78ee"
      },
      "outputs": [],
      "source": [
        "def count_last_digit(data):\n",
        "    # Get only non-zero values\n",
        "    data = data[data>=0]\n",
        "\n",
        "    # Get the first digits\n",
        "    last_digits = list(map(lambda x: int(str(x)[-1]), data))\n",
        "    \n",
        "    # Count occurences. Make sure every position is for [1-9]\n",
        "    empirical_counts = np.zeros(10)\n",
        "    digit = []\n",
        "    for i in range(0, 10):\n",
        "        empirical_counts[i] = last_digits.count(i)\n",
        "        digit.append(i)\n",
        "\n",
        "    # Total amount\n",
        "    total_count = sum(empirical_counts)\n",
        "    # Make percentage\n",
        "    empirical_frequency = [(i / total_count) for i in empirical_counts]\n",
        "    # Return\n",
        "    return(empirical_counts, empirical_frequency, total_count, digit)"
      ]
    },
    {
      "cell_type": "markdown",
      "id": "425b4960",
      "metadata": {
        "id": "425b4960"
      },
      "source": [
        "## Theoretical Benford Distributions"
      ]
    },
    {
      "cell_type": "code",
      "execution_count": 54,
      "id": "7b1d4467",
      "metadata": {
        "id": "7b1d4467"
      },
      "outputs": [],
      "source": [
        "def theoretical_1st_number_counts():\n",
        "    benford_first=[]\n",
        "    for i in range(1,10):\n",
        "        benford_first.append(math.log10(1+1/i))\n",
        "    return benford_first"
      ]
    },
    {
      "cell_type": "code",
      "execution_count": 55,
      "id": "1b5f6732",
      "metadata": {
        "id": "1b5f6732"
      },
      "outputs": [],
      "source": [
        "def theoretical_2nd_number_counts():\n",
        "    benford_second=[]\n",
        "    for i in range(0,10):\n",
        "        suma=0\n",
        "        for j in range (1,10):\n",
        "            suma = suma + math.log10(1+(1/(10*j+i)))\n",
        "        benford_second.append(suma)\n",
        "    return benford_second"
      ]
    },
    {
      "cell_type": "code",
      "execution_count": 56,
      "id": "fa81f0fc",
      "metadata": {
        "id": "fa81f0fc"
      },
      "outputs": [],
      "source": [
        "def theoretical_two_1st_number_counts():\n",
        "    return [round(math.log(1+(i)**(-1), 10), 6)for i in range(10,100)]"
      ]
    },
    {
      "cell_type": "markdown",
      "id": "b3eb428d",
      "metadata": {
        "id": "b3eb428d"
      },
      "source": [
        "## Program"
      ]
    },
    {
      "cell_type": "code",
      "execution_count": 57,
      "id": "ad1b92a5",
      "metadata": {
        "id": "ad1b92a5"
      },
      "outputs": [],
      "source": [
        "df=load_data('Poland_COVID.xlsx')\n",
        "df=df.dropna()\n",
        "df.dropna(inplace=True)\n",
        "df.reset_index(drop=True, inplace=True)\n",
        "df['new_cases']=df['new_cases'].astype(int)"
      ]
    },
    {
      "cell_type": "code",
      "execution_count": 58,
      "id": "1da2791c",
      "metadata": {
        "id": "1da2791c"
      },
      "outputs": [],
      "source": [
        "empirical_counts, empirical_frequency, total_count, digit = count_first_digit(df['new_cases'])\n",
        "empirical_counts2, empirical_frequency2, total_count2, digit2 = count_second_digit(df['new_cases'])\n",
        "empirical_two_first_counts, empirical_two_first_frequency2, total_two_first_count2, digit_two_first = count_two_first_digit(df['new_cases'])"
      ]
    },
    {
      "cell_type": "code",
      "execution_count": 59,
      "id": "6ca10378",
      "metadata": {
        "id": "6ca10378"
      },
      "outputs": [],
      "source": [
        "theoretical_1st_number = theoretical_1st_number_counts()\n",
        "theoretical_2nd_number = theoretical_2nd_number_counts()\n",
        "theoretical_two_1st_number = theoretical_two_1st_number_counts()"
      ]
    },
    {
      "cell_type": "markdown",
      "id": "7c471503",
      "metadata": {
        "id": "7c471503"
      },
      "source": [
        "## Visualization"
      ]
    },
    {
      "cell_type": "code",
      "execution_count": 60,
      "id": "68145085",
      "metadata": {
        "id": "68145085"
      },
      "outputs": [],
      "source": [
        "def first_digit_chart(empirical_frequency, theoretical_frequency):\n",
        "   \n",
        "    x = [i for i in range(1,10)]\n",
        "    x = np.array(x)\n",
        "    y1 = np.array(empirical_frequency)\n",
        "    y2 = np.array(theoretical_frequency)\n",
        "    \n",
        "        \n",
        "    plt.figure(figsize=(10, 5))\n",
        "    plt.xticks(x)\n",
        "\n",
        "    \n",
        "    plt.ylabel(\"Prawdopodobieństwo\")\n",
        "    plt.xlabel(\"Pierwsza cyfra znacząca\")\n",
        "    #plt.scatter(x, y2, s=150, c='red', zorder=2, marker = 11)\n",
        "    plt.plot(x, y2, zorder = 2, c='red')\n",
        "    plt.bar(x, y1)\n",
        "    \n",
        "    \n",
        "    plt.show()"
      ]
    },
    {
      "cell_type": "code",
      "execution_count": 61,
      "id": "afd689f5",
      "metadata": {
        "id": "afd689f5"
      },
      "outputs": [],
      "source": [
        "def second_digit_chart(empirical_frequency, theoretical_frequency):\n",
        "   \n",
        "    x = [i for i in range(0,10)]\n",
        "    x = np.array(x)\n",
        "    y1 = np.array(empirical_frequency)\n",
        "    y2 = np.array(theoretical_frequency)\n",
        "    \n",
        "        \n",
        "    plt.figure(figsize=(10, 5))\n",
        "    plt.xticks(x)\n",
        "\n",
        "    \n",
        "    plt.ylabel(\"Prawdopodobieństwo\")\n",
        "    plt.xlabel(\"Druga cyfra znacząca\")\n",
        "    #plt.scatter(x, y2, s=150, c='red', zorder=2, marker = 11)\n",
        "    plt.plot(x, y2, zorder = 2, c='red')\n",
        "    plt.bar(x, y1)\n",
        "    \n",
        "    \n",
        "    plt.show()"
      ]
    },
    {
      "cell_type": "code",
      "execution_count": 62,
      "id": "151b1e60",
      "metadata": {
        "id": "151b1e60"
      },
      "outputs": [],
      "source": [
        "def two_first_digit_chart(empirical_frequency, theoretical_frequency):\n",
        "   \n",
        "    x = [i for i in range(10,100)]\n",
        "    x = np.array(x)\n",
        "    y1 = np.array(empirical_frequency)\n",
        "    y2 = np.array(theoretical_frequency)\n",
        "    \n",
        "        \n",
        "    plt.figure(figsize=(20, 5))\n",
        "    plt.xticks(np.arange(10, 100, 10.0))\n",
        "    \n",
        "    plt.ylabel(\"Prawdopodobieństwo\")\n",
        "    plt.xlabel(\"Druga cyfra znacząca\")\n",
        "    #plt.scatter(x, y2, s=150, c='red', zorder=2, marker = 11)\n",
        "    plt.plot(x, y2, zorder = 2, c='red')\n",
        "    plt.bar(x, y1)\n",
        "    \n",
        "    \n",
        "    plt.show()"
      ]
    },
    {
      "cell_type": "markdown",
      "source": [
        "## First digit d1"
      ],
      "metadata": {
        "id": "wABny2MKs96V"
      },
      "id": "wABny2MKs96V"
    },
    {
      "cell_type": "code",
      "execution_count": 63,
      "id": "3d7d2234",
      "metadata": {
        "colab": {
          "base_uri": "https://localhost:8080/",
          "height": 334
        },
        "id": "3d7d2234",
        "outputId": "ce40e31d-bfc0-41e4-9d03-94b4fff58529"
      },
      "outputs": [
        {
          "output_type": "display_data",
          "data": {
            "text/plain": [
              "<Figure size 720x360 with 1 Axes>"
            ],
            "image/png": "[encoded data removed]"
          },
          "metadata": {
            "needs_background": "light"
          }
        }
      ],
      "source": [
        "first_digit_chart(empirical_frequency, theoretical_1st_number)"
      ]
    },
    {
      "cell_type": "code",
      "execution_count": 73,
      "id": "2925c762",
      "metadata": {
        "id": "2925c762"
      },
      "outputs": [],
      "source": [
        "# First wat of chi2\n",
        "# x = sum([(o-e)**2./e for o,e in zip(empirical_frequency,theoretical_1st_number)])\n",
        "# x*total_count\n",
        "\n",
        "\n",
        "# x= np.array(theoretical_1st_number)*total_count\n",
        "# chi2(x, empirical_counts)\n",
        "\n",
        "# Third way of chi2\n",
        "# from scipy.stats import chisquare\n",
        "# chisquare(empirical_counts, f_exp=x)"
      ]
    },
    {
      "cell_type": "code",
      "source": [
        "# Forth way of chi2\n",
        "chi2(theoretical_1st_number,empirical_frequency) * total_count"
      ],
      "metadata": {
        "colab": {
          "base_uri": "https://localhost:8080/"
        },
        "id": "-Cl9L4YouXSW",
        "outputId": "b0e2de24-b9b7-47a5-e1e2-44dace161d17"
      },
      "id": "-Cl9L4YouXSW",
      "execution_count": 74,
      "outputs": [
        {
          "output_type": "execute_result",
          "data": {
            "text/plain": [
              "11.285802118044698"
            ]
          },
          "metadata": {},
          "execution_count": 74
        }
      ]
    },
    {
      "cell_type": "code",
      "execution_count": 75,
      "id": "5a9df0b5",
      "metadata": {
        "colab": {
          "base_uri": "https://localhost:8080/"
        },
        "id": "5a9df0b5",
        "outputId": "e5583c31-4606-49aa-b7f4-b89159c6c625"
      },
      "outputs": [
        {
          "output_type": "execute_result",
          "data": {
            "text/plain": [
              "0.6164601891286423"
            ]
          },
          "metadata": {},
          "execution_count": 75
        }
      ],
      "source": [
        "KolmogorowSmirnow(theoretical_1st_number,empirical_frequency, total_count)"
      ]
    },
    {
      "cell_type": "code",
      "execution_count": 77,
      "id": "21cf2152",
      "metadata": {
        "colab": {
          "base_uri": "https://localhost:8080/"
        },
        "id": "21cf2152",
        "outputId": "13ca4650-96cf-4457-8456-7169986e865f"
      },
      "outputs": [
        {
          "output_type": "execute_result",
          "data": {
            "text/plain": [
              "0.02309018705618779"
            ]
          },
          "metadata": {},
          "execution_count": 77
        }
      ],
      "source": [
        "distanceTest(theoretical_1st_number, empirical_frequency)"
      ]
    },
    {
      "cell_type": "markdown",
      "source": [
        "## Second digit d2"
      ],
      "metadata": {
        "id": "gIUUKexGtEeV"
      },
      "id": "gIUUKexGtEeV"
    },
    {
      "cell_type": "code",
      "execution_count": 78,
      "id": "1c02a0ea",
      "metadata": {
        "colab": {
          "base_uri": "https://localhost:8080/",
          "height": 335
        },
        "id": "1c02a0ea",
        "outputId": "f192a070-b7d0-480f-b876-4b7ccf186b00"
      },
      "outputs": [
        {
          "output_type": "display_data",
          "data": {
            "text/plain": [
              "<Figure size 720x360 with 1 Axes>"
            ],
            "image/png": "[encoded data removed]"
          },
          "metadata": {
            "needs_background": "light"
          }
        }
      ],
      "source": [
        "second_digit_chart(empirical_frequency2, theoretical_2nd_number)"
      ]
    },
    {
      "cell_type": "markdown",
      "source": [
        "## Two firsts digits d1d2"
      ],
      "metadata": {
        "id": "bKp1Qs2BtGUR"
      },
      "id": "bKp1Qs2BtGUR"
    },
    {
      "cell_type": "code",
      "execution_count": 79,
      "id": "4e271d7a",
      "metadata": {
        "colab": {
          "base_uri": "https://localhost:8080/",
          "height": 334
        },
        "id": "4e271d7a",
        "outputId": "7c3815a0-3a25-44f9-c339-72e069edd2eb"
      },
      "outputs": [
        {
          "output_type": "display_data",
          "data": {
            "text/plain": [
              "<Figure size 1440x360 with 1 Axes>"
            ],
            "image/png": "[encoded data removed]"
          },
          "metadata": {
            "needs_background": "light"
          }
        }
      ],
      "source": [
        "two_first_digit_chart(empirical_two_first_frequency2, theoretical_two_1st_number)"
      ]
    },
    {
      "cell_type": "code",
      "execution_count": null,
      "id": "8dad9b2c",
      "metadata": {
        "id": "8dad9b2c",
        "outputId": "14940878-b04e-4e44-94a5-9b32e78533ce"
      },
      "outputs": [
        {
          "data": {
            "text/plain": [
              "array([5318238., 4590848., 1748712., 1087309.,  959497., 1156052.,\n",
              "        587221.,  601611.,  277694.])"
            ]
          },
          "execution_count": 295,
          "metadata": {},
          "output_type": "execute_result"
        }
      ],
      "source": [
        "\n",
        "# a=list(map(lambda x: int(str(x)[0]), data))\n",
        "\n",
        "# sum_list = np.zeros(9)\n",
        "# for i in range(len(data)):\n",
        "#     for j in range(1,10):\n",
        "#         if a[i]==j:\n",
        "#             sum_list[j-1] += data.loc[i]\n",
        "# sum_list"
      ]
    },
    {
      "cell_type": "code",
      "execution_count": null,
      "id": "96e875d7",
      "metadata": {
        "id": "96e875d7"
      },
      "outputs": [],
      "source": [
        "# data = df['new_cases']\n",
        "# #data=data[data>0]\n",
        "\n",
        "# a=list(map(lambda x: int(str(x)[:2]), data))\n",
        "\n",
        "\n",
        "# for i in range(len(a)):\n",
        "#     if a[i]<10:\n",
        "#         a[i] *= 10\n",
        "\n",
        "# #print(a)\n",
        "# #print(data)\n",
        "# sum_list = np.zeros(90)\n",
        "# for i in range(len(data)):\n",
        "#     for j in range(10,100):\n",
        "#         if a[i]==j:\n",
        "#             sum_list[j-10] += data.loc[i]\n",
        "#             print(\"i wynosi:\", i, \"j wynosi:\", j, \"dodawany element to:\", data.loc[i], \"a suma:\", sum_list[j-10])\n",
        "# #print(sum_list)\n",
        "# plt.plot(sum_list)"
      ]
    },
    {
      "cell_type": "code",
      "execution_count": null,
      "id": "f4e66877",
      "metadata": {
        "id": "f4e66877"
      },
      "outputs": [],
      "source": [
        "# def count_second_digit(data):\n",
        "#     # Get only non-zero values\n",
        "#     data = data[data>=0]\n",
        "\n",
        "#     # Get the first digits\n",
        "#     dataMore10 = data[data>=10]\n",
        "#     second_digits = list(map(lambda x: int(str(x)[1]), dataMore10))\n",
        "#     for i in data[data<10]:\n",
        "#         second_digits.append(0)\n",
        "    \n",
        "    \n",
        "#     # Count occurences. Make sure every position is for [1-9]\n",
        "#     empirical_counts = np.zeros(10)\n",
        "#     digit = []\n",
        "#     for i in range(0, 10):\n",
        "#         empirical_counts[i] = second_digits.count(i)\n",
        "#         digit.append(i)\n",
        "\n",
        "#     # Total amount\n",
        "#     total_count = sum(empirical_counts)\n",
        "#     # Make percentage\n",
        "#     empirical_frequency = [(i / total_count) for i in empirical_counts]\n",
        "#     # Return\n",
        "#     return(empirical_counts, empirical_frequency, total_count, digit)"
      ]
    },
    {
      "cell_type": "code",
      "execution_count": null,
      "id": "9b09168c",
      "metadata": {
        "id": "9b09168c"
      },
      "outputs": [],
      "source": []
    }
  ],
  "metadata": {
    "kernelspec": {
      "display_name": "Python 3 (ipykernel)",
      "language": "python",
      "name": "python3"
    },
    "language_info": {
      "codemirror_mode": {
        "name": "ipython",
        "version": 3
      },
      "file_extension": ".py",
      "mimetype": "text/x-python",
      "name": "python",
      "nbconvert_exporter": "python",
      "pygments_lexer": "ipython3",
      "version": "3.9.7"
    },
    "colab": {
      "provenance": []
    }
  },
  "nbformat": 4,
  "nbformat_minor": 5
}