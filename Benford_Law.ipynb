{
  "cells": [
    {
      "cell_type": "code",
      "execution_count": null,
      "id": "39412f87",
      "metadata": {
        "id": "39412f87"
      },
      "outputs": [],
      "source": [
        "import numpy as np\n",
        "import pandas as pd\n",
        "import sys\n",
        "import math\n",
        "import matplotlib.pyplot as plt\n",
        "\n",
        "\n",
        "def load_data(filename, var):\n",
        "        df=pd.read_excel(filename)\n",
        "        data=df[var]\n",
        "        return df,data\n",
        "    \n",
        "def count_first_digit(data_str):\n",
        "    mask=df[data_str]>=1.\n",
        "    data=list(df[mask][data_str])\n",
        "    for i in range(len(data)):\n",
        "        while data[i]>=10:\n",
        "            data[i]=data[i]/10\n",
        "    first_digits=[int(x) for x in sorted(data)]\n",
        "    unique=(set(first_digits))#a list with unique values of     first_digit list\n",
        "    data_count=[]\n",
        "    for i in range(1,10):\n",
        "        count=first_digits.count(i)\n",
        "        data_count.append(count)\n",
        "    total_count=sum(data_count)\n",
        "    data_percentage=[(i/total_count)*100 for i in data_count]\n",
        "    return  total_count,data_count, data_percentage, unique\n",
        "\n",
        "def get_expected_counts(total_count, benford_list):\n",
        "    \"\"\"Return list of expected Benford's Law counts for total sample count.\"\"\"\n",
        "    return [round(p * total_count) for p in benford_list]\n",
        "\n",
        "\n",
        "#1st_bar_chart\n",
        "def bar_chart(data_pct, BENFORD):\n",
        "    \n",
        "    benford_list_chart1 =[]\n",
        "    \n",
        "    for i in range(len(BENFORD)):\n",
        "        benford_list_chart1.append(BENFORD[i]*100)\n",
        "\n",
        "    \"\"\"Make bar chart of observed vs expected 1st digit frequency in percent.\"\"\"\n",
        "\n",
        "    fig, ax = plt.subplots()\n",
        "    index = [i + 1 for i in range(len(data_pct))]  # 1st digits for x-axis\n",
        "# text for labels, title and ticks\n",
        "\n",
        "    fig.canvas.set_window_title('Percentage First Digits')\n",
        "    ax.set_title('Data vs. Benford Values', fontsize=15)\n",
        "    ax.set_ylabel('Frequency (%)', fontsize=16)\n",
        "    ax.set_xticks(index)\n",
        "    ax.set_xticklabels(index, fontsize=14)\n",
        "\n",
        "\n",
        "\n",
        "    # build bars    \n",
        "    rects = ax.bar(index, data_pct, width=0.95, color='black', label='Data')\n",
        "\n",
        "    # attach a text label above each bar displaying its height\n",
        "\n",
        "    for rect in rects:\n",
        "\n",
        "        height = rect.get_height()\n",
        "\n",
        "        ax.text(rect.get_x() + rect.get_width()/2, height,\n",
        "\n",
        "                '{:0.1f}'.format(height), ha='center', va='bottom', \n",
        "\n",
        "                fontsize=13)\n",
        "\n",
        "\n",
        "\n",
        "    # plot Benford values as red dots\n",
        "\n",
        "    ax.scatter(index, benford_list_chart1, s=150, c='red', zorder=2, label='Benford')\n",
        "\n",
        "\n",
        "\n",
        "    # Hide the right and top spines & add legend\n",
        "\n",
        "    ax.spines['right'].set_visible(True)\n",
        "\n",
        "    ax.spines['top'].set_visible(True)\n",
        "\n",
        "    ax.legend(prop={'size':15}, frameon=True)\n",
        "\n",
        "    \n",
        "\n",
        "    plt.show()\n",
        "      \n",
        "def bar_chart2(data_pct, BENFORD):\n",
        "    \n",
        "    benford_list_chart2 =[]\n",
        "    \n",
        "    for i in range(len(BENFORD)):\n",
        "        benford_list_chart2.append(BENFORD[i]*100)\n",
        "        \n",
        "    labels=list(data_percentage) \n",
        "    x = np.arange(1,len(data_percentage)+1) # the label locations\n",
        "    width = 0.35  # the width of the bars\n",
        "    fig, ax = plt.subplots(figsize=(15,6))\n",
        "    rects1 = ax.bar(x, data_percentage, width, color='black', label='Data')\n",
        "    rects2 = ax.bar(x + width, benford_list_chart2,width,color='blue', label='Benford')\n",
        "    #rects3 = plt.plot(x, data_percentage,'red')\n",
        "    \n",
        "    for rect in rects1:\n",
        "\n",
        "        height = rect.get_height()\n",
        "\n",
        "        ax.text(rect.get_x() + rect.get_width()/2, height,\n",
        "\n",
        "                '{:0.1f}'.format(height), ha='center', va='bottom', \n",
        "\n",
        "                fontsize=13)\n",
        "        \n",
        "    for rect in rects2:\n",
        "\n",
        "        height = rect.get_height()\n",
        "\n",
        "        ax.text(rect.get_x() + rect.get_width()/2, height,\n",
        "\n",
        "                '{:0.1f}'.format(height), ha='center', va='bottom', \n",
        "\n",
        "                fontsize=13)\n",
        "    \n",
        "    \n",
        "    # Add some text for labels, title and custom x-axis tick labels, etc.\n",
        "    ax.set_ylabel('Frequency (%)', fontsize=16)\n",
        "    ax.set_title('Benford')\n",
        "    ax.set_xticks(x)\n",
        "    ax.legend()\n",
        "    #plt.savefig(\"Polska_wykres_benford.jpg\")\n",
        "    plt.show()"
      ]
    },
    {
      "cell_type": "code",
      "execution_count": null,
      "id": "e449c6d7",
      "metadata": {
        "id": "e449c6d7"
      },
      "outputs": [],
      "source": [
        "def chi_square_test(data_count,expected_counts):\n",
        "    \"\"\"Return boolean on chi-square test (8 degrees of freedom & P-val=0.05).\"\"\"\n",
        "    chi_square_stat = 0  # chi square test statistic\n",
        "    for data, expected in zip(data_count,expected_counts):\n",
        "\n",
        "        chi_square = math.pow(data - expected, 2)\n",
        "\n",
        "        chi_square_stat += chi_square / expected\n",
        "\n",
        "    print(\"\\nChi-squared Test Statistic = {:.3f}\".format(chi_square_stat))\n",
        "    print(\"Critical value at a P-value of 0.05 is 15.51.\")    \n",
        "    return chi_square_stat < 15.51"
      ]
    },
    {
      "cell_type": "code",
      "execution_count": null,
      "id": "f81cc2f5",
      "metadata": {
        "id": "f81cc2f5"
      },
      "outputs": [],
      "source": [
        "def Kolmogorow_Smirnof(data_percentage, benford_list):\n",
        "    #alpha 0.05 i m=9 n=9\n",
        "    probability_KS_test=[]\n",
        "    for i in range(len(data_percentage)):\n",
        "         probability_KS_test.append(data_percentage[i]/100)\n",
        "    \n",
        "    distribution_emp = []\n",
        "    distribution_emp.append(probability_KS_test[0])\n",
        "    distribution_teo = []\n",
        "    distribution_teo.append(benford_list[0])\n",
        "    \n",
        "    for i in range(1,len(probability_KS_test)):\n",
        "        distribution_emp.append(probability_KS_test[i]+distribution_emp[i-1])\n",
        "        distribution_teo.append(benford_list[i]+distribution_teo[i-1])\n",
        "        \n",
        "    dlist=[]\n",
        "    for i in range(len(probability_KS_test)):\n",
        "        dlist.append(math.fabs(distribution_emp[i]-distribution_teo[i]))\n",
        "    \n",
        "    D=max(dlist)\n",
        "    Critical_value = 54/81\n",
        "    # jeśli true to jest różnica\n",
        "    return  distribution_emp,distribution_teo, D>Critical_value"
      ]
    },
    {
      "cell_type": "code",
      "execution_count": null,
      "id": "1d6ecef3",
      "metadata": {
        "id": "1d6ecef3"
      },
      "outputs": [],
      "source": [
        "def Measure_Similaristy_1(data_percentage, benford_list_probability):\n",
        "    probability_measure_similaristy_list_1 =[]\n",
        "    M1 = 0\n",
        "    sum = 0\n",
        "    \n",
        "    for i in range(len(benford_list_probability)):\n",
        "        probability_measure_similaristy_list_1.append(benford_list_probability[i]*100)\n",
        "    \n",
        "    for i in range(len(benford_list_probability)):\n",
        "        sum += math.fabs((data_percentage[i]-probability_measure_similaristy_list_1[i])/probability_measure_similaristy_list_1[i])\n",
        "        \n",
        "    \n",
        "    M1 = (100/len(data_percentage))*sum\n",
        "    \n",
        "    \n",
        "    return M1\n",
        "    "
      ]
    },
    {
      "cell_type": "code",
      "execution_count": null,
      "id": "f0c26926",
      "metadata": {
        "id": "f0c26926"
      },
      "outputs": [],
      "source": [
        "def Measure_Similaristy_2(data_percentage, benford_list_probability):\n",
        "    probability_measure_similaristy_list_2 =[]\n",
        "    M2 = 0\n",
        "    sum = 0\n",
        "    \n",
        "    for i in range(len(benford_list_probability)):\n",
        "        probability_measure_similaristy_list_2.append(benford_list_probability[i]*100)\n",
        "    \n",
        "    for i in range(len(benford_list_probability)):\n",
        "        sum += math.pow((data_percentage[i]-probability_measure_similaristy_list_2[i]),2)\n",
        "        \n",
        "    \n",
        "    M2 = (math.sqrt(sum)/len(data_percentage))\n",
        "    \n",
        "    \n",
        "    return M2"
      ]
    },
    {
      "cell_type": "code",
      "execution_count": null,
      "id": "255bbe61",
      "metadata": {
        "id": "255bbe61"
      },
      "outputs": [],
      "source": [
        "def Measure_Similaristy_3(data_percentage, benford_list_probability):\n",
        "    probability_measure_similaristy_list_3 =[]\n",
        "    M3 = 0\n",
        "    sum = 0\n",
        "    \n",
        "    for i in range(len(benford_list_probability)):\n",
        "        probability_measure_similaristy_list_3.append(benford_list_probability[i]*100)\n",
        "    \n",
        "    for i in range(len(benford_list_probability)):\n",
        "        sum += math.pow((data_percentage[i]-probability_measure_similaristy_list_3[i]),2)\n",
        "        \n",
        "    \n",
        "    M3 = (math.sqrt(sum/len(data_percentage)))\n",
        "    \n",
        "    \n",
        "    return M3"
      ]
    },
    {
      "cell_type": "code",
      "execution_count": null,
      "id": "fdc14bf3",
      "metadata": {
        "id": "fdc14bf3"
      },
      "outputs": [],
      "source": []
    },
    {
      "cell_type": "code",
      "execution_count": null,
      "id": "4e3ec544",
      "metadata": {
        "id": "4e3ec544"
      },
      "outputs": [],
      "source": [
        "from scipy.stats import ks_2samp"
      ]
    },
    {
      "cell_type": "code",
      "execution_count": null,
      "id": "0589cb43",
      "metadata": {
        "id": "0589cb43"
      },
      "outputs": [],
      "source": [
        "BENFORD = [0.301, 0.176, 0.125, 0.097, 0.079, 0.067, 0.058, 0.051, 0.046]"
      ]
    },
    {
      "cell_type": "code",
      "execution_count": null,
      "id": "cc30ec8f",
      "metadata": {
        "id": "cc30ec8f",
        "outputId": "0e79f40e-fe31-4445-e9b4-6f6552f406e8"
      },
      "outputs": [
        {
          "data": {
            "text/plain": [
              "9"
            ]
          },
          "execution_count": 83,
          "metadata": {},
          "output_type": "execute_result"
        }
      ],
      "source": [
        "len(BENFORD)"
      ]
    },
    {
      "cell_type": "code",
      "execution_count": null,
      "id": "671f84f8",
      "metadata": {
        "id": "671f84f8"
      },
      "outputs": [],
      "source": []
    },
    {
      "cell_type": "code",
      "execution_count": null,
      "id": "4b24996e",
      "metadata": {
        "id": "4b24996e"
      },
      "outputs": [],
      "source": [
        "[df,dat]=load_data('Chiny_COVID.xlsx',\"new_cases\")"
      ]
    },
    {
      "cell_type": "code",
      "execution_count": null,
      "id": "01a3a5cb",
      "metadata": {
        "id": "01a3a5cb",
        "outputId": "4d2359b6-48a3-48f9-f25e-24b3b59d226d"
      },
      "outputs": [
        {
          "data": {
            "text/html": [
              "<div>\n",
              "<style scoped>\n",
              "    .dataframe tbody tr th:only-of-type {\n",
              "        vertical-align: middle;\n",
              "    }\n",
              "\n",
              "    .dataframe tbody tr th {\n",
              "        vertical-align: top;\n",
              "    }\n",
              "\n",
              "    .dataframe thead th {\n",
              "        text-align: right;\n",
              "    }\n",
              "</style>\n",
              "<table border=\"1\" class=\"dataframe\">\n",
              "  <thead>\n",
              "    <tr style=\"text-align: right;\">\n",
              "      <th></th>\n",
              "      <th>date</th>\n",
              "      <th>new_cases</th>\n",
              "    </tr>\n",
              "  </thead>\n",
              "  <tbody>\n",
              "    <tr>\n",
              "      <th>0</th>\n",
              "      <td>2020-01-22</td>\n",
              "      <td>NaN</td>\n",
              "    </tr>\n",
              "    <tr>\n",
              "      <th>1</th>\n",
              "      <td>2020-01-23</td>\n",
              "      <td>92.0</td>\n",
              "    </tr>\n",
              "    <tr>\n",
              "      <th>2</th>\n",
              "      <td>2020-01-24</td>\n",
              "      <td>277.0</td>\n",
              "    </tr>\n",
              "    <tr>\n",
              "      <th>3</th>\n",
              "      <td>2020-01-25</td>\n",
              "      <td>483.0</td>\n",
              "    </tr>\n",
              "    <tr>\n",
              "      <th>4</th>\n",
              "      <td>2020-01-26</td>\n",
              "      <td>663.0</td>\n",
              "    </tr>\n",
              "    <tr>\n",
              "      <th>...</th>\n",
              "      <td>...</td>\n",
              "      <td>...</td>\n",
              "    </tr>\n",
              "    <tr>\n",
              "      <th>772</th>\n",
              "      <td>2022-03-04</td>\n",
              "      <td>281.0</td>\n",
              "    </tr>\n",
              "    <tr>\n",
              "      <th>773</th>\n",
              "      <td>2022-03-05</td>\n",
              "      <td>329.0</td>\n",
              "    </tr>\n",
              "    <tr>\n",
              "      <th>774</th>\n",
              "      <td>2022-03-06</td>\n",
              "      <td>327.0</td>\n",
              "    </tr>\n",
              "    <tr>\n",
              "      <th>775</th>\n",
              "      <td>2022-03-07</td>\n",
              "      <td>325.0</td>\n",
              "    </tr>\n",
              "    <tr>\n",
              "      <th>776</th>\n",
              "      <td>2022-03-08</td>\n",
              "      <td>337.0</td>\n",
              "    </tr>\n",
              "  </tbody>\n",
              "</table>\n",
              "<p>777 rows × 2 columns</p>\n",
              "</div>"
            ],
            "text/plain": [
              "          date  new_cases\n",
              "0   2020-01-22        NaN\n",
              "1   2020-01-23       92.0\n",
              "2   2020-01-24      277.0\n",
              "3   2020-01-25      483.0\n",
              "4   2020-01-26      663.0\n",
              "..         ...        ...\n",
              "772 2022-03-04      281.0\n",
              "773 2022-03-05      329.0\n",
              "774 2022-03-06      327.0\n",
              "775 2022-03-07      325.0\n",
              "776 2022-03-08      337.0\n",
              "\n",
              "[777 rows x 2 columns]"
            ]
          },
          "execution_count": 5,
          "metadata": {},
          "output_type": "execute_result"
        }
      ],
      "source": [
        "df"
      ]
    },
    {
      "cell_type": "code",
      "execution_count": null,
      "id": "92ca2996",
      "metadata": {
        "scrolled": true,
        "id": "92ca2996",
        "outputId": "a71b8885-41c3-4f7e-e161-3c7500c25580"
      },
      "outputs": [
        {
          "data": {
            "text/plain": [
              "0        NaN\n",
              "1       92.0\n",
              "2      277.0\n",
              "3      483.0\n",
              "4      663.0\n",
              "       ...  \n",
              "772    281.0\n",
              "773    329.0\n",
              "774    327.0\n",
              "775    325.0\n",
              "776    337.0\n",
              "Name: new_cases, Length: 777, dtype: float64"
            ]
          },
          "execution_count": 10,
          "metadata": {},
          "output_type": "execute_result"
        }
      ],
      "source": [
        "df[\"new_cases\"]"
      ]
    },
    {
      "cell_type": "code",
      "execution_count": null,
      "id": "7b8fb66b",
      "metadata": {
        "id": "7b8fb66b",
        "outputId": "26f48ef5-2ecf-48ad-e544-90800d0ca909"
      },
      "outputs": [
        {
          "data": {
            "text/plain": [
              "[<matplotlib.lines.Line2D at 0x271870386a0>]"
            ]
          },
          "execution_count": 11,
          "metadata": {},
          "output_type": "execute_result"
        },
        {
          "data": {
            "text/plain": [
              "<Figure size 432x288 with 0 Axes>"
            ]
          },
          "metadata": {},
          "output_type": "display_data"
        },
        {
          "data": {
            "image/png": "[encoded data removed]",
            "text/plain": [
              "<Figure size 1080x432 with 1 Axes>"
            ]
          },
          "metadata": {
            "needs_background": "light"
          },
          "output_type": "display_data"
        }
      ],
      "source": [
        "plt.figure()\n",
        "plt.figure(figsize=(15,6))\n",
        "plt.plot(df[\"date\"], df[\"new_cases\"],'red')\n",
        "#plt.savefig(\"Polska_wykres_zakazenia.jpg\")"
      ]
    },
    {
      "cell_type": "code",
      "execution_count": null,
      "id": "f41e5d94",
      "metadata": {
        "id": "f41e5d94",
        "outputId": "530c9326-278a-4a54-9693-8750ff0197bb"
      },
      "outputs": [
        {
          "data": {
            "text/plain": [
              "15133.0"
            ]
          },
          "execution_count": 12,
          "metadata": {},
          "output_type": "execute_result"
        }
      ],
      "source": [
        "df[\"new_cases\"].max()"
      ]
    },
    {
      "cell_type": "code",
      "execution_count": null,
      "id": "c77c81e4",
      "metadata": {
        "id": "c77c81e4"
      },
      "outputs": [],
      "source": [
        "[total_count,data_count, data_percentage,unique]=count_first_digit('new_cases')"
      ]
    },
    {
      "cell_type": "code",
      "execution_count": null,
      "id": "907ff277",
      "metadata": {
        "id": "907ff277",
        "outputId": "ae1ff100-2474-4a7f-e97b-9be81b844372"
      },
      "outputs": [
        {
          "data": {
            "text/plain": [
              "[0.35255570117955437,\n",
              " 0.20838794233289643,\n",
              " 0.10878112712975098,\n",
              " 0.07339449541284404,\n",
              " 0.04456094364351246,\n",
              " 0.05242463958060288,\n",
              " 0.060288335517693324,\n",
              " 0.04849279161205767,\n",
              " 0.05111402359108781]"
            ]
          },
          "execution_count": 14,
          "metadata": {},
          "output_type": "execute_result"
        }
      ],
      "source": [
        "data_perc_na_100 =[]\n",
        "for i in range(len(data_percentage)):\n",
        "        data_perc_na_100.append(data_percentage[i]/100)\n",
        "        \n",
        "data_perc_na_100"
      ]
    },
    {
      "cell_type": "code",
      "execution_count": null,
      "id": "62d6969a",
      "metadata": {
        "id": "62d6969a"
      },
      "outputs": [],
      "source": [
        "expected_counts=get_expected_counts(total_count, BENFORD)"
      ]
    },
    {
      "cell_type": "code",
      "execution_count": null,
      "id": "0813878a",
      "metadata": {
        "scrolled": true,
        "id": "0813878a",
        "outputId": "d4af0be7-ccca-4883-bbd1-d1498a47091a"
      },
      "outputs": [
        {
          "name": "stdout",
          "output_type": "stream",
          "text": [
            "17.574222773653645\n",
            "0.858034386011512\n",
            "2.574103158034536\n"
          ]
        }
      ],
      "source": [
        "print(Measure_Similaristy_1(data_percentage,BENFORD))\n",
        "print(Measure_Similaristy_2(data_percentage,BENFORD))\n",
        "print(Measure_Similaristy_3(data_percentage,BENFORD))"
      ]
    },
    {
      "cell_type": "code",
      "execution_count": null,
      "id": "e8ccf689",
      "metadata": {
        "id": "e8ccf689",
        "outputId": "0066ed57-c04d-4e6f-d346-bcc7669e3987"
      },
      "outputs": [
        {
          "data": {
            "text/plain": [
              "KstestResult(statistic=0.2222222222222222, pvalue=0.9894693541752365)"
            ]
          },
          "execution_count": 17,
          "metadata": {},
          "output_type": "execute_result"
        }
      ],
      "source": [
        "ks_2samp(data_perc_na_100, BENFORD)"
      ]
    },
    {
      "cell_type": "code",
      "execution_count": null,
      "id": "d08f2fbc",
      "metadata": {
        "id": "d08f2fbc",
        "outputId": "68194a9e-e1fa-402b-acf1-533778bb0279"
      },
      "outputs": [
        {
          "data": {
            "text/plain": [
              "([0.35255570117955437,\n",
              "  0.5609436435124509,\n",
              "  0.6697247706422018,\n",
              "  0.7431192660550459,\n",
              "  0.7876802096985583,\n",
              "  0.8401048492791612,\n",
              "  0.9003931847968545,\n",
              "  0.9488859764089121,\n",
              "  1.0],\n",
              " [0.301,\n",
              "  0.477,\n",
              "  0.602,\n",
              "  0.699,\n",
              "  0.7779999999999999,\n",
              "  0.845,\n",
              "  0.903,\n",
              "  0.9540000000000001,\n",
              "  1.0],\n",
              " False)"
            ]
          },
          "execution_count": 18,
          "metadata": {},
          "output_type": "execute_result"
        }
      ],
      "source": [
        "Kolmogorow_Smirnof(data_percentage, BENFORD)"
      ]
    },
    {
      "cell_type": "code",
      "execution_count": null,
      "id": "b1b5e106",
      "metadata": {
        "id": "b1b5e106",
        "outputId": "6fd0c6eb-b208-4012-b5a7-e0070990ad4e"
      },
      "outputs": [
        {
          "name": "stdout",
          "output_type": "stream",
          "text": [
            "\n",
            "Chi-squared Test Statistic = 31.461\n",
            "Critical value at a P-value of 0.05 is 15.51.\n"
          ]
        },
        {
          "data": {
            "text/plain": [
              "False"
            ]
          },
          "execution_count": 19,
          "metadata": {},
          "output_type": "execute_result"
        }
      ],
      "source": [
        "chi_square_test(data_count,expected_counts)"
      ]
    },
    {
      "cell_type": "code",
      "execution_count": null,
      "id": "b4c09355",
      "metadata": {
        "id": "b4c09355",
        "outputId": "a5cd0282-1239-49f1-f8b4-e7b88bda73ff"
      },
      "outputs": [
        {
          "name": "stderr",
          "output_type": "stream",
          "text": [
            "C:\\Users\\DELL\\AppData\\Local\\Temp/ipykernel_5592/1857582723.py:48: MatplotlibDeprecationWarning: \n",
            "The set_window_title function was deprecated in Matplotlib 3.4 and will be removed two minor releases later. Use manager.set_window_title or GUI-specific methods instead.\n",
            "  fig.canvas.set_window_title('Percentage First Digits')\n"
          ]
        },
        {
          "data": {
            "image/png": "[encoded data removed]",
            "text/plain": [
              "<Figure size 432x288 with 1 Axes>"
            ]
          },
          "metadata": {
            "needs_background": "light"
          },
          "output_type": "display_data"
        }
      ],
      "source": [
        "bar_chart(data_percentage,BENFORD)"
      ]
    },
    {
      "cell_type": "code",
      "execution_count": null,
      "id": "ba30d9c1",
      "metadata": {
        "id": "ba30d9c1",
        "outputId": "bcfed04d-f776-48ff-b39f-b4b6cfe8520c"
      },
      "outputs": [
        {
          "data": {
            "image/png": "[encoded data removed]",
            "text/plain": [
              "<Figure size 1080x432 with 1 Axes>"
            ]
          },
          "metadata": {
            "needs_background": "light"
          },
          "output_type": "display_data"
        }
      ],
      "source": [
        "bar_chart2(data_percentage,BENFORD)"
      ]
    },
    {
      "cell_type": "code",
      "execution_count": null,
      "id": "3e6e5995",
      "metadata": {
        "id": "3e6e5995",
        "outputId": "4cb93415-28c5-41f1-89ea-e7b0a748b2d5"
      },
      "outputs": [
        {
          "data": {
            "text/plain": [
              "([0.35255570117955437,\n",
              "  0.5609436435124509,\n",
              "  0.6697247706422018,\n",
              "  0.7431192660550459,\n",
              "  0.7876802096985583,\n",
              "  0.8401048492791612,\n",
              "  0.9003931847968545,\n",
              "  0.9488859764089121,\n",
              "  1.0],\n",
              " [0.301,\n",
              "  0.477,\n",
              "  0.602,\n",
              "  0.699,\n",
              "  0.7779999999999999,\n",
              "  0.845,\n",
              "  0.903,\n",
              "  0.9540000000000001,\n",
              "  1.0],\n",
              " False)"
            ]
          },
          "execution_count": 22,
          "metadata": {},
          "output_type": "execute_result"
        }
      ],
      "source": [
        "Kolmogorow_Smirnof(data_percentage,BENFORD)"
      ]
    },
    {
      "cell_type": "code",
      "execution_count": null,
      "id": "5330a689",
      "metadata": {
        "id": "5330a689"
      },
      "outputs": [],
      "source": [
        "#def z_test(data_percentage, benford_list):\n",
        "    \n",
        " #   data_percentage_z_test=[]\n",
        "  #  for i in range(len(data_percentage)):\n",
        "   #      data_percentage_z_test.append(data_percentage[i]/100)\n",
        "            \n",
        "   # z_stat = 0  # chi square test statistic\n",
        "    \n",
        "   # for empir, teor in zip(data_percentage_z_test, benford_list):\n",
        "        \n",
        "        \n",
        "   # return data_percentage_z_test"
      ]
    },
    {
      "cell_type": "code",
      "execution_count": null,
      "id": "36087049",
      "metadata": {
        "id": "36087049"
      },
      "outputs": [],
      "source": [
        "[df,dat]=load_data('Poland_COVID.xlsx',\"new_cases\")"
      ]
    },
    {
      "cell_type": "code",
      "execution_count": null,
      "id": "763f72cf",
      "metadata": {
        "id": "763f72cf"
      },
      "outputs": [],
      "source": [
        "[total_count,data_count, data_percentage,unique]=count_first_digit('new_cases')"
      ]
    },
    {
      "cell_type": "code",
      "execution_count": null,
      "id": "382c231f",
      "metadata": {
        "id": "382c231f"
      },
      "outputs": [],
      "source": [
        "print(data_count)"
      ]
    },
    {
      "cell_type": "code",
      "execution_count": null,
      "id": "0931827a",
      "metadata": {
        "id": "0931827a"
      },
      "outputs": [],
      "source": [
        "data_percentage"
      ]
    },
    {
      "cell_type": "code",
      "execution_count": null,
      "id": "99b32608",
      "metadata": {
        "id": "99b32608"
      },
      "outputs": [],
      "source": [
        "BENFORD = [0.301, 0.176, 0.125, 0.097, 0.079, 0.067, 0.058, 0.051, 0.046]"
      ]
    },
    {
      "cell_type": "code",
      "execution_count": null,
      "id": "747de08f",
      "metadata": {
        "id": "747de08f"
      },
      "outputs": [],
      "source": [
        "#z_test(data_percentage,BENFORD)"
      ]
    },
    {
      "cell_type": "code",
      "execution_count": null,
      "id": "a8f2feea",
      "metadata": {
        "id": "a8f2feea"
      },
      "outputs": [],
      "source": [
        "data_percentage"
      ]
    },
    {
      "cell_type": "code",
      "execution_count": null,
      "id": "e34e9e36",
      "metadata": {
        "id": "e34e9e36"
      },
      "outputs": [],
      "source": [
        "expected_counts=get_expected_counts(total_count, BENFORD)"
      ]
    },
    {
      "cell_type": "code",
      "execution_count": null,
      "id": "80f65a1f",
      "metadata": {
        "scrolled": true,
        "id": "80f65a1f"
      },
      "outputs": [],
      "source": [
        "chi_square_test(data_count,expected_counts)"
      ]
    },
    {
      "cell_type": "code",
      "execution_count": null,
      "id": "28165fb4",
      "metadata": {
        "id": "28165fb4"
      },
      "outputs": [],
      "source": [
        "bar_chart(data_percentage,BENFORD)"
      ]
    },
    {
      "cell_type": "code",
      "execution_count": null,
      "id": "4132fd53",
      "metadata": {
        "id": "4132fd53"
      },
      "outputs": [],
      "source": [
        "BENFORD"
      ]
    },
    {
      "cell_type": "code",
      "execution_count": null,
      "id": "1947ae2e",
      "metadata": {
        "scrolled": false,
        "id": "1947ae2e"
      },
      "outputs": [],
      "source": [
        "bar_chart2(data_percentage,BENFORD)"
      ]
    },
    {
      "cell_type": "code",
      "execution_count": null,
      "id": "1769ddf9",
      "metadata": {
        "id": "1769ddf9"
      },
      "outputs": [],
      "source": [
        "[df,dat]=load_data('Europa_COVID.xlsx',\"new_cases\")"
      ]
    },
    {
      "cell_type": "code",
      "execution_count": null,
      "id": "8ac87a9f",
      "metadata": {
        "id": "8ac87a9f"
      },
      "outputs": [],
      "source": [
        "[total_count,data_count, data_percentage,unique]=count_first_digit('new_cases')"
      ]
    },
    {
      "cell_type": "code",
      "execution_count": null,
      "id": "468fb421",
      "metadata": {
        "id": "468fb421"
      },
      "outputs": [],
      "source": [
        "print(total_count)\n",
        "print(data_count)"
      ]
    },
    {
      "cell_type": "code",
      "execution_count": null,
      "id": "415bafa0",
      "metadata": {
        "id": "415bafa0"
      },
      "outputs": [],
      "source": [
        "BENFORD = [0.301, 0.176, 0.125, 0.097, 0.079, 0.067, 0.058, 0.051, 0.046]"
      ]
    },
    {
      "cell_type": "code",
      "execution_count": null,
      "id": "9c9b7578",
      "metadata": {
        "id": "9c9b7578"
      },
      "outputs": [],
      "source": [
        "sum(BENFORD)"
      ]
    },
    {
      "cell_type": "code",
      "execution_count": null,
      "id": "47362dea",
      "metadata": {
        "id": "47362dea"
      },
      "outputs": [],
      "source": [
        "expected_counts=get_expected_counts(total_count, BENFORD)"
      ]
    },
    {
      "cell_type": "code",
      "execution_count": null,
      "id": "a548cc78",
      "metadata": {
        "id": "a548cc78"
      },
      "outputs": [],
      "source": [
        "chi_square_test(data_count,expected_counts)"
      ]
    },
    {
      "cell_type": "code",
      "execution_count": null,
      "id": "5e662082",
      "metadata": {
        "scrolled": true,
        "id": "5e662082"
      },
      "outputs": [],
      "source": [
        "bar_chart(data_percentage,BENFORD )"
      ]
    },
    {
      "cell_type": "code",
      "execution_count": null,
      "id": "1a28e4b8",
      "metadata": {
        "id": "1a28e4b8"
      },
      "outputs": [],
      "source": [
        "def count_2_digit(data_str):\n",
        "    mask=df[data_str]>=1.\n",
        "    data=list(df[mask][data_str])\n",
        "    for i in range(len(data)):\n",
        "        while data[i]>=100:\n",
        "            data[i]=data[i]/10\n",
        "    first_digits=[int(x) for x in sorted(data)]\n",
        "    unique=(set(first_digits))#a list with unique values of     first_digit list\n",
        "    data_count=[]\n",
        "    for i in range(1,100):\n",
        "        count=first_digits.count(i)\n",
        "        data_count.append(count)\n",
        "    total_count=sum(data_count)\n",
        "    data_percentage=[(i/total_count)*100 for i in data_count]\n",
        "    return  total_count,data_count, data_percentage, unique"
      ]
    },
    {
      "cell_type": "code",
      "execution_count": null,
      "id": "78180a33",
      "metadata": {
        "id": "78180a33"
      },
      "outputs": [],
      "source": [
        "[df,dat]=load_data('Poland_COVID.xlsx',\"new_cases\")"
      ]
    },
    {
      "cell_type": "code",
      "execution_count": null,
      "id": "dedfea96",
      "metadata": {
        "id": "dedfea96"
      },
      "outputs": [],
      "source": [
        "[total_count,data_count, data_percentage,unique]=count_2_digit('new_cases')"
      ]
    },
    {
      "cell_type": "code",
      "execution_count": null,
      "id": "cf53ab11",
      "metadata": {
        "id": "cf53ab11"
      },
      "outputs": [],
      "source": [
        "len(unique)"
      ]
    },
    {
      "cell_type": "code",
      "execution_count": null,
      "id": "607726c0",
      "metadata": {
        "id": "607726c0"
      },
      "outputs": [],
      "source": [
        "benford_first_2=[];\n"
      ]
    },
    {
      "cell_type": "code",
      "execution_count": null,
      "id": "cffda2f2",
      "metadata": {
        "id": "cffda2f2"
      },
      "outputs": [],
      "source": [
        "expected_counts=get_expected_counts(total_count, benford_first_2)"
      ]
    },
    {
      "cell_type": "code",
      "execution_count": null,
      "id": "e04e28ca",
      "metadata": {
        "id": "e04e28ca"
      },
      "outputs": [],
      "source": [
        "chi_square_test(data_count,expected_counts)"
      ]
    },
    {
      "cell_type": "code",
      "execution_count": null,
      "id": "21031444",
      "metadata": {
        "id": "21031444"
      },
      "outputs": [],
      "source": [
        "print(Measure_Similaristy_1(data_percentage,benford_first_2))\n",
        "print(Measure_Similaristy_2(data_percentage,benford_first_2))\n",
        "print(Measure_Similaristy_3(data_percentage,benford_first_2))"
      ]
    },
    {
      "cell_type": "code",
      "execution_count": null,
      "id": "544af02b",
      "metadata": {
        "scrolled": true,
        "id": "544af02b"
      },
      "outputs": [],
      "source": [
        "bar_chart2(data_percentage, benford_first_2)"
      ]
    },
    {
      "cell_type": "code",
      "execution_count": null,
      "id": "49d9de67",
      "metadata": {
        "id": "49d9de67"
      },
      "outputs": [],
      "source": [
        "def count_3_digit(data_str):\n",
        "    mask=df[data_str]>=1.\n",
        "    data=list(df[mask][data_str])\n",
        "    for i in range(len(data)):\n",
        "        while data[i]>=1000:\n",
        "            data[i]=data[i]/10\n",
        "    first_digits=[int(x) for x in sorted(data)]\n",
        "    unique=(set(first_digits))#a list with unique values of     first_digit list\n",
        "    data_count=[]\n",
        "    for i in range(1,1000):\n",
        "        count=first_digits.count(i)\n",
        "        data_count.append(count)\n",
        "    total_count=sum(data_count)\n",
        "    data_percentage=[(i/total_count)*100 for i in data_count]\n",
        "    return  total_count,data_count, data_percentage, unique"
      ]
    },
    {
      "cell_type": "code",
      "execution_count": null,
      "id": "b3f5bc1d",
      "metadata": {
        "id": "b3f5bc1d"
      },
      "outputs": [],
      "source": [
        "[df,dat]=load_data('Europa_COVID.xlsx',\"new_cases\")"
      ]
    },
    {
      "cell_type": "code",
      "execution_count": null,
      "id": "9074a32f",
      "metadata": {
        "id": "9074a32f"
      },
      "outputs": [],
      "source": [
        "[total_count,data_count, data_percentage,unique]=count_3_digit('new_cases')"
      ]
    },
    {
      "cell_type": "code",
      "execution_count": null,
      "id": "e93ac024",
      "metadata": {
        "id": "e93ac024"
      },
      "outputs": [],
      "source": [
        "benford_first_3=[];\n",
        "for i in range(1,1000):\n",
        "    benford_first_3.append(math.log10(1+1/i))"
      ]
    },
    {
      "cell_type": "code",
      "execution_count": null,
      "id": "f96e881b",
      "metadata": {
        "id": "f96e881b"
      },
      "outputs": [],
      "source": [
        "expected_counts=get_expected_counts(total_count, benford_first_3)"
      ]
    },
    {
      "cell_type": "code",
      "execution_count": null,
      "id": "e5e776f0",
      "metadata": {
        "id": "e5e776f0"
      },
      "outputs": [],
      "source": [
        "#chi_square_test(data_count,expected_counts)"
      ]
    },
    {
      "cell_type": "code",
      "execution_count": null,
      "id": "c9830b6d",
      "metadata": {
        "id": "c9830b6d"
      },
      "outputs": [],
      "source": [
        "#bar_chart(data_percentage, benford_first_3)"
      ]
    },
    {
      "cell_type": "code",
      "execution_count": null,
      "id": "586c8832",
      "metadata": {
        "id": "586c8832"
      },
      "outputs": [],
      "source": [
        "def count_2_second(data_str):\n",
        "    mask=df[data_str]>=1.\n",
        "    data=list(df[mask][data_str])\n",
        "    for i in range(len(data)):\n",
        "        while data[i]>=100:\n",
        "            data[i]=data[i]/10\n",
        "        data[i]=data[i]-data[i]%10\n",
        "        data[i]=data[i]/10\n",
        "    first_digits=[int(x) for x in sorted(data)]\n",
        "    unique=(set(first_digits))#a list with unique values of     first_digit list\n",
        "    data_count=[]\n",
        "    for i in range(0,10):\n",
        "        count=first_digits.count(i)\n",
        "        data_count.append(count)\n",
        "    total_count=sum(data_count)\n",
        "    data_percentage=[(i/total_count)*100 for i in data_count]\n",
        "    return  total_count,data_count, data_percentage, unique"
      ]
    },
    {
      "cell_type": "code",
      "execution_count": null,
      "id": "60d7ae99",
      "metadata": {
        "id": "60d7ae99"
      },
      "outputs": [],
      "source": [
        "[df,dat]=load_data('Germany_COVID.xlsx',\"new_cases\")"
      ]
    },
    {
      "cell_type": "code",
      "execution_count": null,
      "id": "bf930a1d",
      "metadata": {
        "id": "bf930a1d"
      },
      "outputs": [],
      "source": [
        "[total_count,data_count, data_percentage,unique]=count_2_second('new_cases')"
      ]
    },
    {
      "cell_type": "code",
      "execution_count": null,
      "id": "b16d417d",
      "metadata": {
        "id": "b16d417d"
      },
      "outputs": [],
      "source": [
        "benford_only_2=[];\n",
        "for i in range(0,10):\n",
        "    suma=0\n",
        "    for j in range(1,10):\n",
        "        suma=suma+math.log10(1+1/(10*j+i))\n",
        "    benford_only_2.append(suma)"
      ]
    },
    {
      "cell_type": "code",
      "execution_count": null,
      "id": "9e59673f",
      "metadata": {
        "id": "9e59673f"
      },
      "outputs": [],
      "source": [
        "expected_counts=get_expected_counts(total_count, benford_only_2)"
      ]
    },
    {
      "cell_type": "code",
      "execution_count": null,
      "id": "77c72a76",
      "metadata": {
        "id": "77c72a76"
      },
      "outputs": [],
      "source": [
        "chi_square_test(data_count,expected_counts)"
      ]
    },
    {
      "cell_type": "code",
      "execution_count": null,
      "id": "d8645e9d",
      "metadata": {
        "id": "d8645e9d"
      },
      "outputs": [],
      "source": [
        "print(Measure_Similaristy_1(data_percentage,benford_only_2))\n",
        "print(Measure_Similaristy_2(data_percentage,benford_only_2))\n",
        "print(Measure_Similaristy_3(data_percentage,benford_only_2))"
      ]
    },
    {
      "cell_type": "code",
      "execution_count": null,
      "id": "29d11352",
      "metadata": {
        "scrolled": true,
        "id": "29d11352"
      },
      "outputs": [],
      "source": [
        "bar_chart(data_percentage, benford_only_2)"
      ]
    },
    {
      "cell_type": "code",
      "execution_count": null,
      "id": "85a479ba",
      "metadata": {
        "id": "85a479ba"
      },
      "outputs": [],
      "source": [
        "test_list=[1,2,3,4]"
      ]
    },
    {
      "cell_type": "code",
      "execution_count": null,
      "id": "e70831af",
      "metadata": {
        "id": "e70831af"
      },
      "outputs": [],
      "source": [
        "def test(pc):\n",
        "    for i in range(len(pc)):\n",
        "        pc[i]=pc[i]*100\n",
        "    return pc"
      ]
    },
    {
      "cell_type": "code",
      "execution_count": null,
      "id": "8c1f4868",
      "metadata": {
        "id": "8c1f4868"
      },
      "outputs": [],
      "source": [
        "t1=test(test_list)\n",
        "print(t1)"
      ]
    },
    {
      "cell_type": "code",
      "execution_count": null,
      "id": "ae9d8fb4",
      "metadata": {
        "id": "ae9d8fb4"
      },
      "outputs": [],
      "source": [
        "test_list"
      ]
    },
    {
      "cell_type": "code",
      "execution_count": null,
      "id": "e67a9be8",
      "metadata": {
        "id": "e67a9be8"
      },
      "outputs": [],
      "source": [
        "# First, we will take the input:  \n",
        "lower_value = 1  \n",
        "upper_value = 9999\n",
        "primes=[]\n",
        "for number in range (lower_value, upper_value + 1):  \n",
        "    if number > 1:  \n",
        "        for i in range (2, number):  \n",
        "            if (number % i) == 0:  \n",
        "                break  \n",
        "        else:  \n",
        "            primes.append(number)  "
      ]
    },
    {
      "cell_type": "code",
      "execution_count": null,
      "id": "75492a3f",
      "metadata": {
        "id": "75492a3f"
      },
      "outputs": [],
      "source": [
        "#primes"
      ]
    },
    {
      "cell_type": "code",
      "execution_count": null,
      "id": "2ab784a9",
      "metadata": {
        "id": "2ab784a9"
      },
      "outputs": [],
      "source": [
        "def prime_x(x):\n",
        "    data=x\n",
        "    for i in range(len(data)):\n",
        "        while data[i]>=10:\n",
        "            data[i]=data[i]/10\n",
        "    first_digits=[int(x) for x in sorted(data)]\n",
        "    unique=(set(first_digits))#a list with unique values of     first_digit list\n",
        "    data_count=[]\n",
        "    for i in range(1,10):\n",
        "        count=first_digits.count(i)\n",
        "        data_count.append(count)\n",
        "    total_count=sum(data_count)\n",
        "    data_percentage=[(i/total_count)*100 for i in data_count]\n",
        "    return  total_count,data_count, data_percentage, unique"
      ]
    },
    {
      "cell_type": "code",
      "execution_count": null,
      "id": "62c30e02",
      "metadata": {
        "id": "62c30e02"
      },
      "outputs": [],
      "source": [
        "[total_count,data_count, data_percentage,unique]=prime_x(primes)"
      ]
    },
    {
      "cell_type": "code",
      "execution_count": null,
      "id": "06779ad5",
      "metadata": {
        "id": "06779ad5"
      },
      "outputs": [],
      "source": [
        "expected_counts=get_expected_counts(total_count, BENFORD)"
      ]
    },
    {
      "cell_type": "code",
      "execution_count": null,
      "id": "80f81acf",
      "metadata": {
        "id": "80f81acf"
      },
      "outputs": [],
      "source": [
        "total_count"
      ]
    },
    {
      "cell_type": "code",
      "execution_count": null,
      "id": "b6f38b9c",
      "metadata": {
        "id": "b6f38b9c"
      },
      "outputs": [],
      "source": [
        "bar_chart(data_percentage, BENFORD)"
      ]
    },
    {
      "cell_type": "code",
      "execution_count": null,
      "id": "3cb8ee27",
      "metadata": {
        "id": "3cb8ee27"
      },
      "outputs": [],
      "source": [
        "from PIL import Image"
      ]
    },
    {
      "cell_type": "code",
      "execution_count": null,
      "id": "c290ae30",
      "metadata": {
        "id": "c290ae30"
      },
      "outputs": [],
      "source": [
        "im = Image.open('Z1.jpg','r')"
      ]
    },
    {
      "cell_type": "code",
      "execution_count": null,
      "id": "ba0fc003",
      "metadata": {
        "id": "ba0fc003"
      },
      "outputs": [],
      "source": [
        "pix_value = list(im.getdata())"
      ]
    },
    {
      "cell_type": "code",
      "execution_count": null,
      "id": "d034c609",
      "metadata": {
        "id": "d034c609"
      },
      "outputs": [],
      "source": [
        "pix_value[0]"
      ]
    },
    {
      "cell_type": "code",
      "execution_count": null,
      "id": "08c502b0",
      "metadata": {
        "id": "08c502b0"
      },
      "outputs": [],
      "source": [
        "pic_value_flat=[x for sets in pix_value for x in sets]"
      ]
    },
    {
      "cell_type": "code",
      "execution_count": null,
      "id": "c928279e",
      "metadata": {
        "id": "c928279e"
      },
      "outputs": [],
      "source": [
        "pic_value_flat"
      ]
    },
    {
      "cell_type": "code",
      "execution_count": null,
      "id": "68985a46",
      "metadata": {
        "id": "68985a46"
      },
      "outputs": [],
      "source": [
        "[total_count,data_count, data_percentage,unique]=prime_x(pic_value_flat)"
      ]
    },
    {
      "cell_type": "code",
      "execution_count": null,
      "id": "1ee40506",
      "metadata": {
        "id": "1ee40506"
      },
      "outputs": [],
      "source": [
        "expected_counts=get_expected_counts(total_count, BENFORD)"
      ]
    },
    {
      "cell_type": "code",
      "execution_count": null,
      "id": "71aaf92d",
      "metadata": {
        "id": "71aaf92d"
      },
      "outputs": [],
      "source": [
        "data_percentage"
      ]
    },
    {
      "cell_type": "code",
      "execution_count": null,
      "id": "d601fbff",
      "metadata": {
        "id": "d601fbff",
        "outputId": "0f974780-b3e3-4099-ee46-67c83cd6ece8"
      },
      "outputs": [
        {
          "name": "stderr",
          "output_type": "stream",
          "text": [
            "C:\\Users\\DELL\\AppData\\Local\\Temp/ipykernel_21032/314771730.py:48: MatplotlibDeprecationWarning: \n",
            "The set_window_title function was deprecated in Matplotlib 3.4 and will be removed two minor releases later. Use manager.set_window_title or GUI-specific methods instead.\n",
            "  fig.canvas.set_window_title('Percentage First Digits')\n"
          ]
        },
        {
          "data": {
            "image/png": "[encoded data removed]",
            "text/plain": [
              "<Figure size 432x288 with 1 Axes>"
            ]
          },
          "metadata": {
            "needs_background": "light"
          },
          "output_type": "display_data"
        }
      ],
      "source": [
        "bar_chart(data_percentage, BENFORD)"
      ]
    },
    {
      "cell_type": "code",
      "execution_count": null,
      "id": "4750ffea",
      "metadata": {
        "id": "4750ffea"
      },
      "outputs": [],
      "source": []
    },
    {
      "cell_type": "code",
      "execution_count": null,
      "id": "c79501e7",
      "metadata": {
        "id": "c79501e7"
      },
      "outputs": [],
      "source": [
        "BENFORD = [0.301, 0.176, 0.125, 0.097, 0.079, 0.067, 0.058, 0.051, 0.046]"
      ]
    },
    {
      "cell_type": "code",
      "execution_count": null,
      "id": "edf81678",
      "metadata": {
        "id": "edf81678",
        "outputId": "c503014d-8c4f-4122-9897-baa0b881f764"
      },
      "outputs": [
        {
          "data": {
            "image/png": "[encoded data removed]",
            "text/plain": [
              "<Figure size 1080x432 with 1 Axes>"
            ]
          },
          "metadata": {
            "needs_background": "light"
          },
          "output_type": "display_data"
        }
      ],
      "source": [
        "benford_list_chart2 =[]\n",
        "    \n",
        "for i in range(len(BENFORD)):\n",
        "    benford_list_chart2.append(BENFORD[i]*100)\n",
        "        \n",
        "labels=list(data_percentage) \n",
        "x = np.arange(1,len(data_percentage)+1) # the label locations\n",
        "width = 0.8  # the width of the bars\n",
        "fig, ax = plt.subplots(figsize=(15,6))\n",
        "rects2 = ax.bar(x, benford_list_chart2,width,color='green', label='Benford')\n",
        "\n",
        "for rect in rects2:\n",
        "\n",
        "        height = rect.get_height()\n",
        "\n",
        "        ax.text(rect.get_x() + rect.get_width()/2, height,\n",
        "\n",
        "                '{:0.1f}'.format(height), ha='center', va='bottom', \n",
        "\n",
        "                fontsize=13)\n",
        "\n",
        "# Add some text for labels, title and custom x-axis tick labels, etc.\n",
        "ax.set_ylabel('Frequency (%)', fontsize=16)\n",
        "ax.set_title('Benford')\n",
        "ax.set_xticks(x)\n",
        "ax.legend()\n",
        "plt.savefig(\"Wykres_benford.jpg\")\n",
        "plt.show()"
      ]
    },
    {
      "cell_type": "code",
      "execution_count": null,
      "id": "c6384c0b",
      "metadata": {
        "id": "c6384c0b",
        "outputId": "951a9034-b412-4a78-e76c-954328b09c11"
      },
      "outputs": [
        {
          "data": {
            "text/plain": [
              "1.0"
            ]
          },
          "execution_count": 2,
          "metadata": {},
          "output_type": "execute_result"
        }
      ],
      "source": [
        "sum(BENFORD)"
      ]
    },
    {
      "cell_type": "code",
      "execution_count": null,
      "id": "c661ee58",
      "metadata": {
        "id": "c661ee58"
      },
      "outputs": [],
      "source": []
    }
  ],
  "metadata": {
    "kernelspec": {
      "display_name": "Python 3 (ipykernel)",
      "language": "python",
      "name": "python3"
    },
    "language_info": {
      "codemirror_mode": {
        "name": "ipython",
        "version": 3
      },
      "file_extension": ".py",
      "mimetype": "text/x-python",
      "name": "python",
      "nbconvert_exporter": "python",
      "pygments_lexer": "ipython3",
      "version": "3.9.7"
    },
    "colab": {
      "provenance": []
    }
  },
  "nbformat": 4,
  "nbformat_minor": 5
}