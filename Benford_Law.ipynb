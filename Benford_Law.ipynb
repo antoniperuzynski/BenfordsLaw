{
  "cells": [
    {
      "cell_type": "markdown",
      "id": "58d57a10",
      "metadata": {
        "id": "58d57a10"
      },
      "source": [
        "# Prawo Benforda\n",
        "## Antoni Perużyński"
      ]
    },
    {
      "cell_type": "markdown",
      "id": "95aa379c",
      "metadata": {
        "id": "95aa379c"
      },
      "source": [
        "## Imports"
      ]
    },
    {
      "cell_type": "code",
      "execution_count": 1,
      "id": "13f54e38",
      "metadata": {
        "id": "13f54e38"
      },
      "outputs": [],
      "source": [
        "#pip install sigfig\n",
        "\n",
        "import numpy as np\n",
        "import pandas as pd\n",
        "import matplotlib.pyplot as plt\n",
        "import math"
      ]
    },
    {
      "cell_type": "code",
      "source": [
        "def toInterval10To100(x): \n",
        "  while (x<10 or x>=100):\n",
        "    if x < 10:\n",
        "      x *=10\n",
        "    elif x >= 100:\n",
        "      x/=10\n",
        "  return x"
      ],
      "metadata": {
        "id": "GynEgnj7q5jU"
      },
      "id": "GynEgnj7q5jU",
      "execution_count": 2,
      "outputs": []
    },
    {
      "cell_type": "code",
      "source": [
        "from scipy.stats import variation \n",
        "\n",
        "def stats (data):\n",
        "  print(\"Mean\", data.mean())\n",
        "  print(\"Varation\", data.var())\n",
        "  print(\"Std\", data.std())\n",
        "  print(\"Median\", data.median())\n",
        "  print(\"Mode\", data.mode())\n",
        "  print(\"Skew\", data.skew())\n",
        "  print(\"Kurtosis\", data.kurtosis())\n",
        "  print(\"Variation\", variation(data))"
      ],
      "metadata": {
        "id": "7KJRbhj7sJ1T"
      },
      "id": "7KJRbhj7sJ1T",
      "execution_count": 3,
      "outputs": []
    },
    {
      "cell_type": "markdown",
      "id": "47458996",
      "metadata": {
        "id": "47458996"
      },
      "source": [
        "## Testy statystyczne"
      ]
    },
    {
      "cell_type": "markdown",
      "id": "4b7326e8",
      "metadata": {
        "id": "4b7326e8"
      },
      "source": [
        "### Test zgodności Chi^2"
      ]
    },
    {
      "cell_type": "code",
      "execution_count": 4,
      "id": "0314e5b5",
      "metadata": {
        "id": "0314e5b5"
      },
      "outputs": [],
      "source": [
        "def chi2 (theoryDist, expDist):\n",
        "    chiSquareStat = 0\n",
        "    for i in range(len(theoryDist)):\n",
        "        chiSquareStat += (expDist[i]-theoryDist[i])**2/theoryDist[i]\n",
        "    #print(\"\\nChi-squared Test Statistic = {:.3f}\".format(chiSquareStat))   \n",
        "    return chiSquareStat"
      ]
    },
    {
      "cell_type": "markdown",
      "id": "31bf179b",
      "metadata": {
        "id": "31bf179b"
      },
      "source": [
        "### Test dla wskaźnika struktury"
      ]
    },
    {
      "cell_type": "code",
      "execution_count": 5,
      "id": "b9b3f0b0",
      "metadata": {
        "id": "b9b3f0b0"
      },
      "outputs": [],
      "source": [
        "# def structureIndicator(theoryDist, expDist):\n",
        "#     strIndStat = 0\n",
        "#     for i in range(len(theoryDist)):\n",
        "#         strIndStat +=\n",
        "#     return strIndStat"
      ]
    },
    {
      "cell_type": "markdown",
      "id": "a3a4a0ec",
      "metadata": {
        "id": "a3a4a0ec"
      },
      "source": [
        "### Test Kołmogorowa-Smirnowa"
      ]
    },
    {
      "cell_type": "code",
      "execution_count": 6,
      "id": "b695a3b7",
      "metadata": {
        "id": "b695a3b7"
      },
      "outputs": [],
      "source": [
        "def KolmogorowSmirnow(theoryDist, expDist, n):\n",
        "    KSStat = math.sqrt(n)\n",
        "    tD = np.cumsum(theoryDist)\n",
        "    eD = np.cumsum(expDist)\n",
        "    D=max(np.absolute(np.array(tD)-np.array(eD)))\n",
        "    KSStat *= D\n",
        "    return KSStat"
      ]
    },
    {
      "cell_type": "markdown",
      "source": [
        "### Test Podobieństwa"
      ],
      "metadata": {
        "id": "uEJg_vHc083O"
      },
      "id": "uEJg_vHc083O"
    },
    {
      "cell_type": "code",
      "source": [
        "def Measure_Similaristy_1(data_percentage, benford_list_probability):\n",
        "    probability_measure_similaristy_list_1 =[]\n",
        "    M1 = 0\n",
        "    sum = 0\n",
        "    \n",
        "    for i in range(len(benford_list_probability)):\n",
        "        probability_measure_similaristy_list_1.append(benford_list_probability[i]*100)\n",
        "    \n",
        "    for i in range(len(benford_list_probability)):\n",
        "        sum += math.fabs((data_percentage[i]-probability_measure_similaristy_list_1[i])/probability_measure_similaristy_list_1[i])\n",
        "        \n",
        "    \n",
        "    M1 = (100/len(data_percentage))*sum\n",
        "    \n",
        "    \n",
        "    return M1"
      ],
      "metadata": {
        "id": "gHjTldVH1AEX"
      },
      "id": "gHjTldVH1AEX",
      "execution_count": 7,
      "outputs": []
    },
    {
      "cell_type": "code",
      "source": [
        "def Measure_Similaristy_2(data_percentage, benford_list_probability):\n",
        "    probability_measure_similaristy_list_2 =[]\n",
        "    M2 = 0\n",
        "    sum = 0\n",
        "    \n",
        "    for i in range(len(benford_list_probability)):\n",
        "        probability_measure_similaristy_list_2.append(benford_list_probability[i]*100)\n",
        "    \n",
        "    for i in range(len(benford_list_probability)):\n",
        "        sum += math.pow((data_percentage[i]-probability_measure_similaristy_list_2[i]),2)\n",
        "        \n",
        "    \n",
        "    M2 = (math.sqrt(sum)/len(data_percentage))\n",
        "    \n",
        "    \n",
        "    return M2"
      ],
      "metadata": {
        "id": "jjSdp-4s1AH2"
      },
      "id": "jjSdp-4s1AH2",
      "execution_count": 8,
      "outputs": []
    },
    {
      "cell_type": "code",
      "source": [
        "def Measure_Similaristy_3(data_percentage, benford_list_probability):\n",
        "    probability_measure_similaristy_list_3 =[]\n",
        "    M3 = 0\n",
        "    sum = 0\n",
        "    \n",
        "    for i in range(len(benford_list_probability)):\n",
        "        probability_measure_similaristy_list_3.append(benford_list_probability[i]*100)\n",
        "    \n",
        "    for i in range(len(benford_list_probability)):\n",
        "        sum += math.pow((data_percentage[i]-probability_measure_similaristy_list_3[i]),2)\n",
        "        \n",
        "    \n",
        "    M3 = (math.sqrt(sum/len(data_percentage)))\n",
        "    \n",
        "    \n",
        "    return M3"
      ],
      "metadata": {
        "id": "MU8xCtHp1ALd"
      },
      "id": "MU8xCtHp1ALd",
      "execution_count": 9,
      "outputs": []
    },
    {
      "cell_type": "markdown",
      "id": "1dda2fab",
      "metadata": {
        "id": "1dda2fab"
      },
      "source": [
        "### Test Odległości "
      ]
    },
    {
      "cell_type": "code",
      "execution_count": 10,
      "id": "366b610c",
      "metadata": {
        "id": "366b610c"
      },
      "outputs": [],
      "source": [
        "def distanceTest(theoryDist, expDist):\n",
        "    return max(np.absolute(np.array(theoryDist)-np.array(expDist)))"
      ]
    },
    {
      "cell_type": "markdown",
      "id": "37f1a954",
      "metadata": {
        "id": "37f1a954"
      },
      "source": [
        "## Load data"
      ]
    },
    {
      "cell_type": "code",
      "execution_count": 11,
      "id": "9e06d4fb",
      "metadata": {
        "id": "9e06d4fb"
      },
      "outputs": [],
      "source": [
        "def load_data(filename):\n",
        "        df=pd.read_excel(filename)\n",
        "        return df"
      ]
    },
    {
      "cell_type": "markdown",
      "id": "f721b4e1",
      "metadata": {
        "id": "f721b4e1"
      },
      "source": [
        "## Benford digits"
      ]
    },
    {
      "cell_type": "code",
      "execution_count": 12,
      "id": "0c0413d6",
      "metadata": {
        "id": "0c0413d6"
      },
      "outputs": [],
      "source": [
        "def count_first_digit(data):\n",
        "    # Get only non-zero values\n",
        "    data = data[data>=1]\n",
        "\n",
        "    # Get the first digits\n",
        "    first_digits = list(map(lambda x: int(str(x)[0]), data))\n",
        "    \n",
        "    \n",
        "    # Count occurences. Make sure every position is for [1-9]\n",
        "    empirical_counts = np.zeros(9)\n",
        "    digit = []\n",
        "    for i in range(1, 10):\n",
        "        empirical_counts[i - 1] = first_digits.count(i)\n",
        "        digit.append(i)\n",
        "\n",
        "    # Total amount\n",
        "    total_count = sum(empirical_counts)\n",
        "    # Make percentage\n",
        "    empirical_frequency = [(i / total_count) for i in empirical_counts]\n",
        "    # Return\n",
        "    return(empirical_counts, empirical_frequency, total_count, digit)"
      ]
    },
    {
      "cell_type": "code",
      "execution_count": 13,
      "id": "c223fc90",
      "metadata": {
        "id": "c223fc90"
      },
      "outputs": [],
      "source": [
        "def count_second_digit(data):\n",
        "    # Get only non-zero values\n",
        "    data = data[data>=0]\n",
        "\n",
        "    # Get the first digits\n",
        "    dataMore10 = data[data>=10]\n",
        "    second_digits = list(map(lambda x: int(str(x)[1]), dataMore10))\n",
        "    for i in data[data<10]:\n",
        "        second_digits.append(0)\n",
        "    \n",
        "    \n",
        "    # Count occurences. Make sure every position is for [1-9]\n",
        "    empirical_counts = np.zeros(10)\n",
        "    digit = []\n",
        "    for i in range(0, 10):\n",
        "        empirical_counts[i] = second_digits.count(i)\n",
        "        digit.append(i)\n",
        "\n",
        "    # Total amount\n",
        "    total_count = sum(empirical_counts)\n",
        "    # Make percentage\n",
        "    empirical_frequency = [(i / total_count) for i in empirical_counts]\n",
        "    # Return\n",
        "    return(empirical_counts, empirical_frequency, total_count, digit)"
      ]
    },
    {
      "cell_type": "code",
      "execution_count": 14,
      "id": "0e84c805",
      "metadata": {
        "id": "0e84c805"
      },
      "outputs": [],
      "source": [
        "def count_two_first_digit(data):\n",
        "    # Get only non-zero values\n",
        "    data = data[data>=0]\n",
        "\n",
        "    # Get the first digits\n",
        "    dataMore10 = data[data>=10]\n",
        "    second_digits = list(map(lambda x: int(str(x)[:2]), dataMore10))\n",
        "\n",
        "    # Count occurences. Make sure every position is for [1-9]\n",
        "    empirical_counts = np.zeros(90)\n",
        "    digit = []\n",
        "    for i in range(10, 100):\n",
        "        empirical_counts[i-10] = second_digits.count(i)\n",
        "        digit.append(i)\n",
        "\n",
        "    # Total amount\n",
        "    total_count = sum(empirical_counts)\n",
        "    # Make percentage\n",
        "    empirical_frequency = [(i / total_count) for i in empirical_counts]\n",
        "    # Return\n",
        "    return(empirical_counts, empirical_frequency, total_count, digit)"
      ]
    },
    {
      "cell_type": "code",
      "execution_count": 15,
      "id": "48cf78ee",
      "metadata": {
        "id": "48cf78ee"
      },
      "outputs": [],
      "source": [
        "def count_last_digit(data):\n",
        "    # Get only non-zero values\n",
        "    data = data[data>=0]\n",
        "\n",
        "    # Get the first digits\n",
        "    last_digits = list(map(lambda x: int(str(x)[-1]), data))\n",
        "    \n",
        "    # Count occurences. Make sure every position is for [1-9]\n",
        "    empirical_counts = np.zeros(10)\n",
        "    digit = []\n",
        "    for i in range(0, 10):\n",
        "        empirical_counts[i] = last_digits.count(i)\n",
        "        digit.append(i)\n",
        "\n",
        "    # Total amount\n",
        "    total_count = sum(empirical_counts)\n",
        "    # Make percentage\n",
        "    empirical_frequency = [(i / total_count) for i in empirical_counts]\n",
        "    # Return\n",
        "    return(empirical_counts, empirical_frequency, total_count, digit)"
      ]
    },
    {
      "cell_type": "markdown",
      "id": "425b4960",
      "metadata": {
        "id": "425b4960"
      },
      "source": [
        "## Theoretical Benford Distributions"
      ]
    },
    {
      "cell_type": "code",
      "execution_count": 16,
      "id": "7b1d4467",
      "metadata": {
        "id": "7b1d4467"
      },
      "outputs": [],
      "source": [
        "def theoretical_1st_number_counts():\n",
        "    benford_first=[]\n",
        "    for i in range(1,10):\n",
        "        benford_first.append(math.log10(1+1/i))\n",
        "    return benford_first"
      ]
    },
    {
      "cell_type": "code",
      "execution_count": 17,
      "id": "1b5f6732",
      "metadata": {
        "id": "1b5f6732"
      },
      "outputs": [],
      "source": [
        "def theoretical_2nd_number_counts():\n",
        "    benford_second=[]\n",
        "    for i in range(0,10):\n",
        "        suma=0\n",
        "        for j in range (1,10):\n",
        "            suma = suma + math.log10(1+(1/(10*j+i)))\n",
        "        benford_second.append(suma)\n",
        "    return benford_second"
      ]
    },
    {
      "cell_type": "code",
      "execution_count": 18,
      "id": "fa81f0fc",
      "metadata": {
        "id": "fa81f0fc"
      },
      "outputs": [],
      "source": [
        "def theoretical_two_1st_number_counts():\n",
        "    return [round(math.log(1+(i)**(-1), 10), 6)for i in range(10,100)]"
      ]
    },
    {
      "cell_type": "markdown",
      "id": "b3eb428d",
      "metadata": {
        "id": "b3eb428d"
      },
      "source": [
        "## Program"
      ]
    },
    {
      "cell_type": "code",
      "execution_count": 20,
      "id": "ad1b92a5",
      "metadata": {
        "id": "ad1b92a5"
      },
      "outputs": [],
      "source": [
        "df=load_data('Poland_COVID.xlsx')\n",
        "df=df.dropna()\n",
        "df.dropna(inplace=True)\n",
        "df.reset_index(drop=True, inplace=True)\n",
        "df['new_cases']=df['new_cases'].astype(int)"
      ]
    },
    {
      "cell_type": "code",
      "source": [
        "plt.figure(figsize=(8, 4))\n",
        "plt.ylabel(\"Liczba zakażeń [tys.]\", fontsize = 8)\n",
        "plt.xticks(rotation = 45)\n",
        "plt.title(\"Wykres liczby zakażeń na COVID-19 w Polsce pomiędzy 2020/03/04 - 2022/03/08\", fontsize = 10)\n",
        "plt.plot(df.date, df.new_cases/1000)\n",
        "#plt.xlim([datetime.date(2020,3,4),datetime.date(2020, 10, 10)])\n",
        "ax = plt.gca()\n",
        "ax.spines['top'].set_visible(False)\n",
        "ax.spines['right'].set_visible(False);"
      ],
      "metadata": {
        "colab": {
          "base_uri": "https://localhost:8080/",
          "height": 306
        },
        "id": "M1KEISfxZ5xc",
        "outputId": "0e80b8cb-fbd2-48a9-e9f3-65869bf392a1"
      },
      "id": "M1KEISfxZ5xc",
      "execution_count": 60,
      "outputs": [
        {
          "output_type": "display_data",
          "data": {
            "text/plain": [
              "<Figure size 576x288 with 1 Axes>"
            ],
            "image/png": "[encoded data removed]"
          },
          "metadata": {
            "needs_background": "light"
          }
        }
      ]
    },
    {
      "cell_type": "code",
      "source": [],
      "metadata": {
        "id": "evwzlOSPZ55a"
      },
      "id": "evwzlOSPZ55a",
      "execution_count": null,
      "outputs": []
    },
    {
      "cell_type": "code",
      "execution_count": 21,
      "id": "1da2791c",
      "metadata": {
        "id": "1da2791c"
      },
      "outputs": [],
      "source": [
        "empirical_counts, empirical_frequency, total_count, digit = count_first_digit(df['new_cases'])\n",
        "empirical_counts2, empirical_frequency2, total_count2, digit2 = count_second_digit(df['new_cases'])\n",
        "empirical_two_first_counts, empirical_two_first_frequency2, total_two_first_count2, digit_two_first = count_two_first_digit(df['new_cases'])"
      ]
    },
    {
      "cell_type": "code",
      "execution_count": 22,
      "id": "6ca10378",
      "metadata": {
        "id": "6ca10378"
      },
      "outputs": [],
      "source": [
        "theoretical_1st_number = theoretical_1st_number_counts()\n",
        "theoretical_2nd_number = theoretical_2nd_number_counts()\n",
        "theoretical_two_1st_number = theoretical_two_1st_number_counts()"
      ]
    },
    {
      "cell_type": "markdown",
      "id": "7c471503",
      "metadata": {
        "id": "7c471503"
      },
      "source": [
        "## Visualization"
      ]
    },
    {
      "cell_type": "code",
      "execution_count": 23,
      "id": "68145085",
      "metadata": {
        "id": "68145085"
      },
      "outputs": [],
      "source": [
        "def first_digit_chart(empirical_frequency, theoretical_frequency):\n",
        "   \n",
        "    x = [i for i in range(1,10)]\n",
        "    x = np.array(x)\n",
        "    y1 = np.array(empirical_frequency)\n",
        "    y2 = np.array(theoretical_frequency)\n",
        "    \n",
        "        \n",
        "    plt.figure(figsize=(10, 5))\n",
        "    plt.xticks(x)\n",
        "\n",
        "    \n",
        "    plt.ylabel(\"Prawdopodobieństwo\")\n",
        "    plt.xlabel(\"Pierwsza cyfra znacząca\")\n",
        "    #plt.scatter(x, y2, s=150, c='red', zorder=2, marker = 11)\n",
        "    plt.plot(x, y2, zorder = 2, c='red')\n",
        "    plt.bar(x, y1)\n",
        "    \n",
        "    \n",
        "    plt.show()"
      ]
    },
    {
      "cell_type": "code",
      "execution_count": 24,
      "id": "afd689f5",
      "metadata": {
        "id": "afd689f5"
      },
      "outputs": [],
      "source": [
        "def second_digit_chart(empirical_frequency, theoretical_frequency):\n",
        "   \n",
        "    x = [i for i in range(0,10)]\n",
        "    x = np.array(x)\n",
        "    y1 = np.array(empirical_frequency)\n",
        "    y2 = np.array(theoretical_frequency)\n",
        "    \n",
        "        \n",
        "    plt.figure(figsize=(10, 5))\n",
        "    plt.xticks(x)\n",
        "\n",
        "    \n",
        "    plt.ylabel(\"Prawdopodobieństwo\")\n",
        "    plt.xlabel(\"Druga cyfra znacząca\")\n",
        "    #plt.scatter(x, y2, s=150, c='red', zorder=2, marker = 11)\n",
        "    plt.plot(x, y2, zorder = 2, c='red')\n",
        "    plt.bar(x, y1)\n",
        "    \n",
        "    \n",
        "    plt.show()"
      ]
    },
    {
      "cell_type": "code",
      "execution_count": 25,
      "id": "151b1e60",
      "metadata": {
        "id": "151b1e60"
      },
      "outputs": [],
      "source": [
        "def two_first_digit_chart(empirical_frequency, theoretical_frequency):\n",
        "   \n",
        "    x = [i for i in range(10,100)]\n",
        "    x = np.array(x)\n",
        "    y1 = np.array(empirical_frequency)\n",
        "    y2 = np.array(theoretical_frequency)\n",
        "    \n",
        "        \n",
        "    plt.figure(figsize=(20, 5))\n",
        "    plt.xticks(np.arange(10, 100, 10.0))\n",
        "    \n",
        "    plt.ylabel(\"Prawdopodobieństwo\")\n",
        "    plt.xlabel(\"Druga cyfra znacząca\")\n",
        "    #plt.scatter(x, y2, s=150, c='red', zorder=2, marker = 11)\n",
        "    plt.plot(x, y2, zorder = 2, c='red')\n",
        "    plt.bar(x, y1)\n",
        "    \n",
        "    \n",
        "    plt.show()"
      ]
    },
    {
      "cell_type": "markdown",
      "source": [
        "## First digit d1"
      ],
      "metadata": {
        "id": "wABny2MKs96V"
      },
      "id": "wABny2MKs96V"
    },
    {
      "cell_type": "code",
      "execution_count": 26,
      "id": "3d7d2234",
      "metadata": {
        "colab": {
          "base_uri": "https://localhost:8080/",
          "height": 334
        },
        "id": "3d7d2234",
        "outputId": "9a4b887a-f915-4030-a9a2-20bf3b7aeccc"
      },
      "outputs": [
        {
          "output_type": "display_data",
          "data": {
            "text/plain": [
              "<Figure size 720x360 with 1 Axes>"
            ],
            "image/png": "[encoded data removed]"
          },
          "metadata": {
            "needs_background": "light"
          }
        }
      ],
      "source": [
        "first_digit_chart(empirical_frequency, theoretical_1st_number)"
      ]
    },
    {
      "cell_type": "code",
      "execution_count": 27,
      "id": "2925c762",
      "metadata": {
        "id": "2925c762"
      },
      "outputs": [],
      "source": [
        "# First wat of chi2\n",
        "# x = sum([(o-e)**2./e for o,e in zip(empirical_frequency,theoretical_1st_number)])\n",
        "# x*total_count\n",
        "\n",
        "\n",
        "# x= np.array(theoretical_1st_number)*total_count\n",
        "# chi2(x, empirical_counts)\n",
        "\n",
        "# Third way of chi2\n",
        "# from scipy.stats import chisquare\n",
        "# chisquare(empirical_counts, f_exp=x)"
      ]
    },
    {
      "cell_type": "code",
      "source": [
        "# Forth way of chi2\n",
        "chi2(theoretical_1st_number,empirical_frequency) * total_count"
      ],
      "metadata": {
        "colab": {
          "base_uri": "https://localhost:8080/"
        },
        "id": "-Cl9L4YouXSW",
        "outputId": "e7f4cbc7-555f-4514-8019-adbb2ec1598f"
      },
      "id": "-Cl9L4YouXSW",
      "execution_count": 28,
      "outputs": [
        {
          "output_type": "execute_result",
          "data": {
            "text/plain": [
              "11.285802118044698"
            ]
          },
          "metadata": {},
          "execution_count": 28
        }
      ]
    },
    {
      "cell_type": "code",
      "execution_count": 29,
      "id": "5a9df0b5",
      "metadata": {
        "colab": {
          "base_uri": "https://localhost:8080/"
        },
        "id": "5a9df0b5",
        "outputId": "d9d7f74e-8362-4e4a-ff15-2af899a001a3"
      },
      "outputs": [
        {
          "output_type": "execute_result",
          "data": {
            "text/plain": [
              "0.6164601891286423"
            ]
          },
          "metadata": {},
          "execution_count": 29
        }
      ],
      "source": [
        "KolmogorowSmirnow(theoretical_1st_number,empirical_frequency, total_count)"
      ]
    },
    {
      "cell_type": "code",
      "execution_count": 30,
      "id": "21cf2152",
      "metadata": {
        "colab": {
          "base_uri": "https://localhost:8080/"
        },
        "id": "21cf2152",
        "outputId": "3e648e86-d8e0-4308-c5ba-f599e3a87774"
      },
      "outputs": [
        {
          "output_type": "execute_result",
          "data": {
            "text/plain": [
              "0.02309018705618779"
            ]
          },
          "metadata": {},
          "execution_count": 30
        }
      ],
      "source": [
        "distanceTest(theoretical_1st_number, empirical_frequency)"
      ]
    },
    {
      "cell_type": "markdown",
      "source": [
        "## Second digit d2"
      ],
      "metadata": {
        "id": "gIUUKexGtEeV"
      },
      "id": "gIUUKexGtEeV"
    },
    {
      "cell_type": "code",
      "execution_count": 31,
      "id": "1c02a0ea",
      "metadata": {
        "colab": {
          "base_uri": "https://localhost:8080/",
          "height": 335
        },
        "id": "1c02a0ea",
        "outputId": "dd19f5ab-bb23-471b-ca16-77dcd5633bcd"
      },
      "outputs": [
        {
          "output_type": "display_data",
          "data": {
            "text/plain": [
              "<Figure size 720x360 with 1 Axes>"
            ],
            "image/png": "[encoded data removed]"
          },
          "metadata": {
            "needs_background": "light"
          }
        }
      ],
      "source": [
        "second_digit_chart(empirical_frequency2, theoretical_2nd_number)"
      ]
    },
    {
      "cell_type": "markdown",
      "source": [
        "## Two firsts digits d1d2"
      ],
      "metadata": {
        "id": "bKp1Qs2BtGUR"
      },
      "id": "bKp1Qs2BtGUR"
    },
    {
      "cell_type": "code",
      "execution_count": 32,
      "id": "4e271d7a",
      "metadata": {
        "colab": {
          "base_uri": "https://localhost:8080/",
          "height": 334
        },
        "id": "4e271d7a",
        "outputId": "4e8d3968-9e41-4e2a-d7eb-09986aa514b4"
      },
      "outputs": [
        {
          "output_type": "display_data",
          "data": {
            "text/plain": [
              "<Figure size 1440x360 with 1 Axes>"
            ],
            "image/png": "[encoded data removed]"
          },
          "metadata": {
            "needs_background": "light"
          }
        }
      ],
      "source": [
        "two_first_digit_chart(empirical_two_first_frequency2, theoretical_two_1st_number)"
      ]
    },
    {
      "cell_type": "code",
      "execution_count": null,
      "id": "8dad9b2c",
      "metadata": {
        "id": "8dad9b2c",
        "outputId": "14940878-b04e-4e44-94a5-9b32e78533ce"
      },
      "outputs": [
        {
          "data": {
            "text/plain": [
              "array([5318238., 4590848., 1748712., 1087309.,  959497., 1156052.,\n",
              "        587221.,  601611.,  277694.])"
            ]
          },
          "execution_count": 295,
          "metadata": {},
          "output_type": "execute_result"
        }
      ],
      "source": [
        "\n",
        "# a=list(map(lambda x: int(str(x)[0]), data))\n",
        "\n",
        "# sum_list = np.zeros(9)\n",
        "# for i in range(len(data)):\n",
        "#     for j in range(1,10):\n",
        "#         if a[i]==j:\n",
        "#             sum_list[j-1] += data.loc[i]\n",
        "# sum_list"
      ]
    },
    {
      "cell_type": "code",
      "execution_count": null,
      "id": "96e875d7",
      "metadata": {
        "id": "96e875d7"
      },
      "outputs": [],
      "source": [
        "# data = df['new_cases']\n",
        "# #data=data[data>0]\n",
        "\n",
        "# a=list(map(lambda x: int(str(x)[:2]), data))\n",
        "\n",
        "\n",
        "# for i in range(len(a)):\n",
        "#     if a[i]<10:\n",
        "#         a[i] *= 10\n",
        "\n",
        "# #print(a)\n",
        "# #print(data)\n",
        "# sum_list = np.zeros(90)\n",
        "# for i in range(len(data)):\n",
        "#     for j in range(10,100):\n",
        "#         if a[i]==j:\n",
        "#             sum_list[j-10] += data.loc[i]\n",
        "#             print(\"i wynosi:\", i, \"j wynosi:\", j, \"dodawany element to:\", data.loc[i], \"a suma:\", sum_list[j-10])\n",
        "# #print(sum_list)\n",
        "# plt.plot(sum_list)"
      ]
    },
    {
      "cell_type": "code",
      "execution_count": null,
      "id": "f4e66877",
      "metadata": {
        "id": "f4e66877"
      },
      "outputs": [],
      "source": [
        "# def count_second_digit(data):\n",
        "#     # Get only non-zero values\n",
        "#     data = data[data>=0]\n",
        "\n",
        "#     # Get the first digits\n",
        "#     dataMore10 = data[data>=10]\n",
        "#     second_digits = list(map(lambda x: int(str(x)[1]), dataMore10))\n",
        "#     for i in data[data<10]:\n",
        "#         second_digits.append(0)\n",
        "    \n",
        "    \n",
        "#     # Count occurences. Make sure every position is for [1-9]\n",
        "#     empirical_counts = np.zeros(10)\n",
        "#     digit = []\n",
        "#     for i in range(0, 10):\n",
        "#         empirical_counts[i] = second_digits.count(i)\n",
        "#         digit.append(i)\n",
        "\n",
        "#     # Total amount\n",
        "#     total_count = sum(empirical_counts)\n",
        "#     # Make percentage\n",
        "#     empirical_frequency = [(i / total_count) for i in empirical_counts]\n",
        "#     # Return\n",
        "#     return(empirical_counts, empirical_frequency, total_count, digit)"
      ]
    },
    {
      "cell_type": "code",
      "execution_count": null,
      "id": "9b09168c",
      "metadata": {
        "id": "9b09168c"
      },
      "outputs": [],
      "source": []
    },
    {
      "cell_type": "markdown",
      "source": [
        "## The first digit in each wave of disease"
      ],
      "metadata": {
        "id": "Vs64pyacW0XG"
      },
      "id": "Vs64pyacW0XG"
    },
    {
      "cell_type": "code",
      "source": [
        "df_1_wave = df[( ((df[\"date\"]<= '2020-09-20')))]"
      ],
      "metadata": {
        "id": "r9lAXSxnXJtC"
      },
      "id": "r9lAXSxnXJtC",
      "execution_count": 85,
      "outputs": []
    },
    {
      "cell_type": "code",
      "source": [
        "df_1_wave.head(2)"
      ],
      "metadata": {
        "colab": {
          "base_uri": "https://localhost:8080/",
          "height": 112
        },
        "id": "vPUvmtw8XnXq",
        "outputId": "f9b311c9-248c-4358-f4dd-10e2a02900fe"
      },
      "id": "vPUvmtw8XnXq",
      "execution_count": 86,
      "outputs": [
        {
          "output_type": "execute_result",
          "data": {
            "text/plain": [
              "        date  new_cases\n",
              "0 2020-03-04          1\n",
              "1 2020-03-05          0"
            ],
            "text/html": [
              "\n",
              "  <div id=\"df-464021f7-eabf-48b7-aaef-f2ab5daccdd4\">\n",
              "    <div class=\"colab-df-container\">\n",
              "      <div>\n",
              "<style scoped>\n",
              "    .dataframe tbody tr th:only-of-type {\n",
              "        vertical-align: middle;\n",
              "    }\n",
              "\n",
              "    .dataframe tbody tr th {\n",
              "        vertical-align: top;\n",
              "    }\n",
              "\n",
              "    .dataframe thead th {\n",
              "        text-align: right;\n",
              "    }\n",
              "</style>\n",
              "<table border=\"1\" class=\"dataframe\">\n",
              "  <thead>\n",
              "    <tr style=\"text-align: right;\">\n",
              "      <th></th>\n",
              "      <th>date</th>\n",
              "      <th>new_cases</th>\n",
              "    </tr>\n",
              "  </thead>\n",
              "  <tbody>\n",
              "    <tr>\n",
              "      <th>0</th>\n",
              "      <td>2020-03-04</td>\n",
              "      <td>1</td>\n",
              "    </tr>\n",
              "    <tr>\n",
              "      <th>1</th>\n",
              "      <td>2020-03-05</td>\n",
              "      <td>0</td>\n",
              "    </tr>\n",
              "  </tbody>\n",
              "</table>\n",
              "</div>\n",
              "      <button class=\"colab-df-convert\" onclick=\"convertToInteractive('df-464021f7-eabf-48b7-aaef-f2ab5daccdd4')\"\n",
              "              title=\"Convert this dataframe to an interactive table.\"\n",
              "              style=\"display:none;\">\n",
              "        \n",
              "  <svg xmlns=\"http://www.w3.org/2000/svg\" height=\"24px\"viewBox=\"0 0 24 24\"\n",
              "       width=\"24px\">\n",
              "    <path d=\"M0 0h24v24H0V0z\" fill=\"none\"/>\n",
              "    <path d=\"M18.56 5.44l.94 2.06.94-2.06 2.06-.94-2.06-.94-.94-2.06-.94 2.06-2.06.94zm-11 1L8.5 8.5l.94-2.06 2.06-.94-2.06-.94L8.5 2.5l-.94 2.06-2.06.94zm10 10l.94 2.06.94-2.06 2.06-.94-2.06-.94-.94-2.06-.94 2.06-2.06.94z\"/><path d=\"M17.41 7.96l-1.37-1.37c-.4-.4-.92-.59-1.43-.59-.52 0-1.04.2-1.43.59L10.3 9.45l-7.72 7.72c-.78.78-.78 2.05 0 2.83L4 21.41c.39.39.9.59 1.41.59.51 0 1.02-.2 1.41-.59l7.78-7.78 2.81-2.81c.8-.78.8-2.07 0-2.86zM5.41 20L4 18.59l7.72-7.72 1.47 1.35L5.41 20z\"/>\n",
              "  </svg>\n",
              "      </button>\n",
              "      \n",
              "  <style>\n",
              "    .colab-df-container {\n",
              "      display:flex;\n",
              "      flex-wrap:wrap;\n",
              "      gap: 12px;\n",
              "    }\n",
              "\n",
              "    .colab-df-convert {\n",
              "      background-color: #E8F0FE;\n",
              "      border: none;\n",
              "      border-radius: 50%;\n",
              "      cursor: pointer;\n",
              "      display: none;\n",
              "      fill: #1967D2;\n",
              "      height: 32px;\n",
              "      padding: 0 0 0 0;\n",
              "      width: 32px;\n",
              "    }\n",
              "\n",
              "    .colab-df-convert:hover {\n",
              "      background-color: #E2EBFA;\n",
              "      box-shadow: 0px 1px 2px rgba(60, 64, 67, 0.3), 0px 1px 3px 1px rgba(60, 64, 67, 0.15);\n",
              "      fill: #174EA6;\n",
              "    }\n",
              "\n",
              "    [theme=dark] .colab-df-convert {\n",
              "      background-color: #3B4455;\n",
              "      fill: #D2E3FC;\n",
              "    }\n",
              "\n",
              "    [theme=dark] .colab-df-convert:hover {\n",
              "      background-color: #434B5C;\n",
              "      box-shadow: 0px 1px 3px 1px rgba(0, 0, 0, 0.15);\n",
              "      filter: drop-shadow(0px 1px 2px rgba(0, 0, 0, 0.3));\n",
              "      fill: #FFFFFF;\n",
              "    }\n",
              "  </style>\n",
              "\n",
              "      <script>\n",
              "        const buttonEl =\n",
              "          document.querySelector('#df-464021f7-eabf-48b7-aaef-f2ab5daccdd4 button.colab-df-convert');\n",
              "        buttonEl.style.display =\n",
              "          google.colab.kernel.accessAllowed ? 'block' : 'none';\n",
              "\n",
              "        async function convertToInteractive(key) {\n",
              "          const element = document.querySelector('#df-464021f7-eabf-48b7-aaef-f2ab5daccdd4');\n",
              "          const dataTable =\n",
              "            await google.colab.kernel.invokeFunction('convertToInteractive',\n",
              "                                                     [key], {});\n",
              "          if (!dataTable) return;\n",
              "\n",
              "          const docLinkHtml = 'Like what you see? Visit the ' +\n",
              "            '<a target=\"_blank\" href=https://colab.research.google.com/notebooks/data_table.ipynb>data table notebook</a>'\n",
              "            + ' to learn more about interactive tables.';\n",
              "          element.innerHTML = '';\n",
              "          dataTable['output_type'] = 'display_data';\n",
              "          await google.colab.output.renderOutput(dataTable, element);\n",
              "          const docLink = document.createElement('div');\n",
              "          docLink.innerHTML = docLinkHtml;\n",
              "          element.appendChild(docLink);\n",
              "        }\n",
              "      </script>\n",
              "    </div>\n",
              "  </div>\n",
              "  "
            ]
          },
          "metadata": {},
          "execution_count": 86
        }
      ]
    },
    {
      "cell_type": "code",
      "source": [
        "df_1_wave.describe()"
      ],
      "metadata": {
        "colab": {
          "base_uri": "https://localhost:8080/",
          "height": 300
        },
        "id": "eYx655goYmup",
        "outputId": "8a3a4d01-8504-4731-a8fe-42ba4137c365"
      },
      "id": "eYx655goYmup",
      "execution_count": 87,
      "outputs": [
        {
          "output_type": "execute_result",
          "data": {
            "text/plain": [
              "         new_cases\n",
              "count   201.000000\n",
              "mean    394.228856\n",
              "std     210.205155\n",
              "min       0.000000\n",
              "25%     272.000000\n",
              "50%     362.000000\n",
              "75%     545.000000\n",
              "max    1002.000000"
            ],
            "text/html": [
              "\n",
              "  <div id=\"df-d9f68671-3dcc-48ec-9856-912e9bb89c10\">\n",
              "    <div class=\"colab-df-container\">\n",
              "      <div>\n",
              "<style scoped>\n",
              "    .dataframe tbody tr th:only-of-type {\n",
              "        vertical-align: middle;\n",
              "    }\n",
              "\n",
              "    .dataframe tbody tr th {\n",
              "        vertical-align: top;\n",
              "    }\n",
              "\n",
              "    .dataframe thead th {\n",
              "        text-align: right;\n",
              "    }\n",
              "</style>\n",
              "<table border=\"1\" class=\"dataframe\">\n",
              "  <thead>\n",
              "    <tr style=\"text-align: right;\">\n",
              "      <th></th>\n",
              "      <th>new_cases</th>\n",
              "    </tr>\n",
              "  </thead>\n",
              "  <tbody>\n",
              "    <tr>\n",
              "      <th>count</th>\n",
              "      <td>201.000000</td>\n",
              "    </tr>\n",
              "    <tr>\n",
              "      <th>mean</th>\n",
              "      <td>394.228856</td>\n",
              "    </tr>\n",
              "    <tr>\n",
              "      <th>std</th>\n",
              "      <td>210.205155</td>\n",
              "    </tr>\n",
              "    <tr>\n",
              "      <th>min</th>\n",
              "      <td>0.000000</td>\n",
              "    </tr>\n",
              "    <tr>\n",
              "      <th>25%</th>\n",
              "      <td>272.000000</td>\n",
              "    </tr>\n",
              "    <tr>\n",
              "      <th>50%</th>\n",
              "      <td>362.000000</td>\n",
              "    </tr>\n",
              "    <tr>\n",
              "      <th>75%</th>\n",
              "      <td>545.000000</td>\n",
              "    </tr>\n",
              "    <tr>\n",
              "      <th>max</th>\n",
              "      <td>1002.000000</td>\n",
              "    </tr>\n",
              "  </tbody>\n",
              "</table>\n",
              "</div>\n",
              "      <button class=\"colab-df-convert\" onclick=\"convertToInteractive('df-d9f68671-3dcc-48ec-9856-912e9bb89c10')\"\n",
              "              title=\"Convert this dataframe to an interactive table.\"\n",
              "              style=\"display:none;\">\n",
              "        \n",
              "  <svg xmlns=\"http://www.w3.org/2000/svg\" height=\"24px\"viewBox=\"0 0 24 24\"\n",
              "       width=\"24px\">\n",
              "    <path d=\"M0 0h24v24H0V0z\" fill=\"none\"/>\n",
              "    <path d=\"M18.56 5.44l.94 2.06.94-2.06 2.06-.94-2.06-.94-.94-2.06-.94 2.06-2.06.94zm-11 1L8.5 8.5l.94-2.06 2.06-.94-2.06-.94L8.5 2.5l-.94 2.06-2.06.94zm10 10l.94 2.06.94-2.06 2.06-.94-2.06-.94-.94-2.06-.94 2.06-2.06.94z\"/><path d=\"M17.41 7.96l-1.37-1.37c-.4-.4-.92-.59-1.43-.59-.52 0-1.04.2-1.43.59L10.3 9.45l-7.72 7.72c-.78.78-.78 2.05 0 2.83L4 21.41c.39.39.9.59 1.41.59.51 0 1.02-.2 1.41-.59l7.78-7.78 2.81-2.81c.8-.78.8-2.07 0-2.86zM5.41 20L4 18.59l7.72-7.72 1.47 1.35L5.41 20z\"/>\n",
              "  </svg>\n",
              "      </button>\n",
              "      \n",
              "  <style>\n",
              "    .colab-df-container {\n",
              "      display:flex;\n",
              "      flex-wrap:wrap;\n",
              "      gap: 12px;\n",
              "    }\n",
              "\n",
              "    .colab-df-convert {\n",
              "      background-color: #E8F0FE;\n",
              "      border: none;\n",
              "      border-radius: 50%;\n",
              "      cursor: pointer;\n",
              "      display: none;\n",
              "      fill: #1967D2;\n",
              "      height: 32px;\n",
              "      padding: 0 0 0 0;\n",
              "      width: 32px;\n",
              "    }\n",
              "\n",
              "    .colab-df-convert:hover {\n",
              "      background-color: #E2EBFA;\n",
              "      box-shadow: 0px 1px 2px rgba(60, 64, 67, 0.3), 0px 1px 3px 1px rgba(60, 64, 67, 0.15);\n",
              "      fill: #174EA6;\n",
              "    }\n",
              "\n",
              "    [theme=dark] .colab-df-convert {\n",
              "      background-color: #3B4455;\n",
              "      fill: #D2E3FC;\n",
              "    }\n",
              "\n",
              "    [theme=dark] .colab-df-convert:hover {\n",
              "      background-color: #434B5C;\n",
              "      box-shadow: 0px 1px 3px 1px rgba(0, 0, 0, 0.15);\n",
              "      filter: drop-shadow(0px 1px 2px rgba(0, 0, 0, 0.3));\n",
              "      fill: #FFFFFF;\n",
              "    }\n",
              "  </style>\n",
              "\n",
              "      <script>\n",
              "        const buttonEl =\n",
              "          document.querySelector('#df-d9f68671-3dcc-48ec-9856-912e9bb89c10 button.colab-df-convert');\n",
              "        buttonEl.style.display =\n",
              "          google.colab.kernel.accessAllowed ? 'block' : 'none';\n",
              "\n",
              "        async function convertToInteractive(key) {\n",
              "          const element = document.querySelector('#df-d9f68671-3dcc-48ec-9856-912e9bb89c10');\n",
              "          const dataTable =\n",
              "            await google.colab.kernel.invokeFunction('convertToInteractive',\n",
              "                                                     [key], {});\n",
              "          if (!dataTable) return;\n",
              "\n",
              "          const docLinkHtml = 'Like what you see? Visit the ' +\n",
              "            '<a target=\"_blank\" href=https://colab.research.google.com/notebooks/data_table.ipynb>data table notebook</a>'\n",
              "            + ' to learn more about interactive tables.';\n",
              "          element.innerHTML = '';\n",
              "          dataTable['output_type'] = 'display_data';\n",
              "          await google.colab.output.renderOutput(dataTable, element);\n",
              "          const docLink = document.createElement('div');\n",
              "          docLink.innerHTML = docLinkHtml;\n",
              "          element.appendChild(docLink);\n",
              "        }\n",
              "      </script>\n",
              "    </div>\n",
              "  </div>\n",
              "  "
            ]
          },
          "metadata": {},
          "execution_count": 87
        }
      ]
    },
    {
      "cell_type": "code",
      "source": [
        "plt.figure(figsize=(8, 4))\n",
        "plt.ylabel(\"Liczba zakażeń [tys.]\", fontsize = 8)\n",
        "plt.xticks(rotation = 45)\n",
        "plt.title(\"Wykres liczby zakażeń na COVID-19 w Polsce pomiędzy 2020/03/04 - 2020/09/20\", fontsize = 10)\n",
        "plt.plot(df_1_wave.date, df_1_wave.new_cases/1000)\n",
        "#plt.xlim([datetime.date(2020,3,4),datetime.date(2020, 10, 10)])\n",
        "ax = plt.gca()\n",
        "ax.spines['top'].set_visible(False)\n",
        "ax.spines['right'].set_visible(False);"
      ],
      "metadata": {
        "colab": {
          "base_uri": "https://localhost:8080/",
          "height": 306
        },
        "id": "xm18TIXZaW7z",
        "outputId": "ff5e1dae-c73c-4aef-da91-41d826ed71b7"
      },
      "id": "xm18TIXZaW7z",
      "execution_count": 88,
      "outputs": [
        {
          "output_type": "display_data",
          "data": {
            "text/plain": [
              "<Figure size 576x288 with 1 Axes>"
            ],
            "image/png": "[encoded data removed]"
          },
          "metadata": {
            "needs_background": "light"
          }
        }
      ]
    },
    {
      "cell_type": "code",
      "source": [
        "empirical_counts_1_wave, empirical_frequency_1_wave, total_count_1_wave, digit_1_wave = count_first_digit(df_1_wave['new_cases'])\n",
        "\n",
        "first_digit_chart(empirical_frequency_1_wave, theoretical_1st_number)"
      ],
      "metadata": {
        "colab": {
          "base_uri": "https://localhost:8080/",
          "height": 334
        },
        "id": "okkvOsTnYPP5",
        "outputId": "4bc63def-66f2-4556-fb7d-80a85dbbc100"
      },
      "id": "okkvOsTnYPP5",
      "execution_count": 89,
      "outputs": [
        {
          "output_type": "display_data",
          "data": {
            "text/plain": [
              "<Figure size 720x360 with 1 Axes>"
            ],
            "image/png": "[encoded data removed]"
          },
          "metadata": {
            "needs_background": "light"
          }
        }
      ]
    },
    {
      "cell_type": "code",
      "source": [
        "df_2_wave = df[((df[\"date\"]>= '2020-09-21') & ((df[\"date\"]<= '2021-09-21')))]"
      ],
      "metadata": {
        "id": "_aHGmq9tXygk"
      },
      "id": "_aHGmq9tXygk",
      "execution_count": 90,
      "outputs": []
    },
    {
      "cell_type": "code",
      "source": [
        "df_2_wave.head(2)"
      ],
      "metadata": {
        "colab": {
          "base_uri": "https://localhost:8080/",
          "height": 112
        },
        "id": "F0Koh2jwYM_4",
        "outputId": "4c7f9533-8bf3-4072-c75b-de489c4980b7"
      },
      "id": "F0Koh2jwYM_4",
      "execution_count": 91,
      "outputs": [
        {
          "output_type": "execute_result",
          "data": {
            "text/plain": [
              "          date  new_cases\n",
              "201 2020-09-21        748\n",
              "202 2020-09-22        711"
            ],
            "text/html": [
              "\n",
              "  <div id=\"df-5ef0eb78-6df5-46ad-9260-76ac2ed2b094\">\n",
              "    <div class=\"colab-df-container\">\n",
              "      <div>\n",
              "<style scoped>\n",
              "    .dataframe tbody tr th:only-of-type {\n",
              "        vertical-align: middle;\n",
              "    }\n",
              "\n",
              "    .dataframe tbody tr th {\n",
              "        vertical-align: top;\n",
              "    }\n",
              "\n",
              "    .dataframe thead th {\n",
              "        text-align: right;\n",
              "    }\n",
              "</style>\n",
              "<table border=\"1\" class=\"dataframe\">\n",
              "  <thead>\n",
              "    <tr style=\"text-align: right;\">\n",
              "      <th></th>\n",
              "      <th>date</th>\n",
              "      <th>new_cases</th>\n",
              "    </tr>\n",
              "  </thead>\n",
              "  <tbody>\n",
              "    <tr>\n",
              "      <th>201</th>\n",
              "      <td>2020-09-21</td>\n",
              "      <td>748</td>\n",
              "    </tr>\n",
              "    <tr>\n",
              "      <th>202</th>\n",
              "      <td>2020-09-22</td>\n",
              "      <td>711</td>\n",
              "    </tr>\n",
              "  </tbody>\n",
              "</table>\n",
              "</div>\n",
              "      <button class=\"colab-df-convert\" onclick=\"convertToInteractive('df-5ef0eb78-6df5-46ad-9260-76ac2ed2b094')\"\n",
              "              title=\"Convert this dataframe to an interactive table.\"\n",
              "              style=\"display:none;\">\n",
              "        \n",
              "  <svg xmlns=\"http://www.w3.org/2000/svg\" height=\"24px\"viewBox=\"0 0 24 24\"\n",
              "       width=\"24px\">\n",
              "    <path d=\"M0 0h24v24H0V0z\" fill=\"none\"/>\n",
              "    <path d=\"M18.56 5.44l.94 2.06.94-2.06 2.06-.94-2.06-.94-.94-2.06-.94 2.06-2.06.94zm-11 1L8.5 8.5l.94-2.06 2.06-.94-2.06-.94L8.5 2.5l-.94 2.06-2.06.94zm10 10l.94 2.06.94-2.06 2.06-.94-2.06-.94-.94-2.06-.94 2.06-2.06.94z\"/><path d=\"M17.41 7.96l-1.37-1.37c-.4-.4-.92-.59-1.43-.59-.52 0-1.04.2-1.43.59L10.3 9.45l-7.72 7.72c-.78.78-.78 2.05 0 2.83L4 21.41c.39.39.9.59 1.41.59.51 0 1.02-.2 1.41-.59l7.78-7.78 2.81-2.81c.8-.78.8-2.07 0-2.86zM5.41 20L4 18.59l7.72-7.72 1.47 1.35L5.41 20z\"/>\n",
              "  </svg>\n",
              "      </button>\n",
              "      \n",
              "  <style>\n",
              "    .colab-df-container {\n",
              "      display:flex;\n",
              "      flex-wrap:wrap;\n",
              "      gap: 12px;\n",
              "    }\n",
              "\n",
              "    .colab-df-convert {\n",
              "      background-color: #E8F0FE;\n",
              "      border: none;\n",
              "      border-radius: 50%;\n",
              "      cursor: pointer;\n",
              "      display: none;\n",
              "      fill: #1967D2;\n",
              "      height: 32px;\n",
              "      padding: 0 0 0 0;\n",
              "      width: 32px;\n",
              "    }\n",
              "\n",
              "    .colab-df-convert:hover {\n",
              "      background-color: #E2EBFA;\n",
              "      box-shadow: 0px 1px 2px rgba(60, 64, 67, 0.3), 0px 1px 3px 1px rgba(60, 64, 67, 0.15);\n",
              "      fill: #174EA6;\n",
              "    }\n",
              "\n",
              "    [theme=dark] .colab-df-convert {\n",
              "      background-color: #3B4455;\n",
              "      fill: #D2E3FC;\n",
              "    }\n",
              "\n",
              "    [theme=dark] .colab-df-convert:hover {\n",
              "      background-color: #434B5C;\n",
              "      box-shadow: 0px 1px 3px 1px rgba(0, 0, 0, 0.15);\n",
              "      filter: drop-shadow(0px 1px 2px rgba(0, 0, 0, 0.3));\n",
              "      fill: #FFFFFF;\n",
              "    }\n",
              "  </style>\n",
              "\n",
              "      <script>\n",
              "        const buttonEl =\n",
              "          document.querySelector('#df-5ef0eb78-6df5-46ad-9260-76ac2ed2b094 button.colab-df-convert');\n",
              "        buttonEl.style.display =\n",
              "          google.colab.kernel.accessAllowed ? 'block' : 'none';\n",
              "\n",
              "        async function convertToInteractive(key) {\n",
              "          const element = document.querySelector('#df-5ef0eb78-6df5-46ad-9260-76ac2ed2b094');\n",
              "          const dataTable =\n",
              "            await google.colab.kernel.invokeFunction('convertToInteractive',\n",
              "                                                     [key], {});\n",
              "          if (!dataTable) return;\n",
              "\n",
              "          const docLinkHtml = 'Like what you see? Visit the ' +\n",
              "            '<a target=\"_blank\" href=https://colab.research.google.com/notebooks/data_table.ipynb>data table notebook</a>'\n",
              "            + ' to learn more about interactive tables.';\n",
              "          element.innerHTML = '';\n",
              "          dataTable['output_type'] = 'display_data';\n",
              "          await google.colab.output.renderOutput(dataTable, element);\n",
              "          const docLink = document.createElement('div');\n",
              "          docLink.innerHTML = docLinkHtml;\n",
              "          element.appendChild(docLink);\n",
              "        }\n",
              "      </script>\n",
              "    </div>\n",
              "  </div>\n",
              "  "
            ]
          },
          "metadata": {},
          "execution_count": 91
        }
      ]
    },
    {
      "cell_type": "code",
      "source": [
        "df_2_wave.describe()"
      ],
      "metadata": {
        "colab": {
          "base_uri": "https://localhost:8080/",
          "height": 300
        },
        "id": "lEq2xYlMbKPk",
        "outputId": "2e2459ad-16b4-4cfc-e61a-03f2692eb4ba"
      },
      "id": "lEq2xYlMbKPk",
      "execution_count": 92,
      "outputs": [
        {
          "output_type": "execute_result",
          "data": {
            "text/plain": [
              "          new_cases\n",
              "count    366.000000\n",
              "mean    7704.284153\n",
              "std     8524.757422\n",
              "min       38.000000\n",
              "25%      368.500000\n",
              "50%     4884.000000\n",
              "75%    12146.000000\n",
              "max    35253.000000"
            ],
            "text/html": [
              "\n",
              "  <div id=\"df-4718e288-4064-493a-b390-c67e61406b39\">\n",
              "    <div class=\"colab-df-container\">\n",
              "      <div>\n",
              "<style scoped>\n",
              "    .dataframe tbody tr th:only-of-type {\n",
              "        vertical-align: middle;\n",
              "    }\n",
              "\n",
              "    .dataframe tbody tr th {\n",
              "        vertical-align: top;\n",
              "    }\n",
              "\n",
              "    .dataframe thead th {\n",
              "        text-align: right;\n",
              "    }\n",
              "</style>\n",
              "<table border=\"1\" class=\"dataframe\">\n",
              "  <thead>\n",
              "    <tr style=\"text-align: right;\">\n",
              "      <th></th>\n",
              "      <th>new_cases</th>\n",
              "    </tr>\n",
              "  </thead>\n",
              "  <tbody>\n",
              "    <tr>\n",
              "      <th>count</th>\n",
              "      <td>366.000000</td>\n",
              "    </tr>\n",
              "    <tr>\n",
              "      <th>mean</th>\n",
              "      <td>7704.284153</td>\n",
              "    </tr>\n",
              "    <tr>\n",
              "      <th>std</th>\n",
              "      <td>8524.757422</td>\n",
              "    </tr>\n",
              "    <tr>\n",
              "      <th>min</th>\n",
              "      <td>38.000000</td>\n",
              "    </tr>\n",
              "    <tr>\n",
              "      <th>25%</th>\n",
              "      <td>368.500000</td>\n",
              "    </tr>\n",
              "    <tr>\n",
              "      <th>50%</th>\n",
              "      <td>4884.000000</td>\n",
              "    </tr>\n",
              "    <tr>\n",
              "      <th>75%</th>\n",
              "      <td>12146.000000</td>\n",
              "    </tr>\n",
              "    <tr>\n",
              "      <th>max</th>\n",
              "      <td>35253.000000</td>\n",
              "    </tr>\n",
              "  </tbody>\n",
              "</table>\n",
              "</div>\n",
              "      <button class=\"colab-df-convert\" onclick=\"convertToInteractive('df-4718e288-4064-493a-b390-c67e61406b39')\"\n",
              "              title=\"Convert this dataframe to an interactive table.\"\n",
              "              style=\"display:none;\">\n",
              "        \n",
              "  <svg xmlns=\"http://www.w3.org/2000/svg\" height=\"24px\"viewBox=\"0 0 24 24\"\n",
              "       width=\"24px\">\n",
              "    <path d=\"M0 0h24v24H0V0z\" fill=\"none\"/>\n",
              "    <path d=\"M18.56 5.44l.94 2.06.94-2.06 2.06-.94-2.06-.94-.94-2.06-.94 2.06-2.06.94zm-11 1L8.5 8.5l.94-2.06 2.06-.94-2.06-.94L8.5 2.5l-.94 2.06-2.06.94zm10 10l.94 2.06.94-2.06 2.06-.94-2.06-.94-.94-2.06-.94 2.06-2.06.94z\"/><path d=\"M17.41 7.96l-1.37-1.37c-.4-.4-.92-.59-1.43-.59-.52 0-1.04.2-1.43.59L10.3 9.45l-7.72 7.72c-.78.78-.78 2.05 0 2.83L4 21.41c.39.39.9.59 1.41.59.51 0 1.02-.2 1.41-.59l7.78-7.78 2.81-2.81c.8-.78.8-2.07 0-2.86zM5.41 20L4 18.59l7.72-7.72 1.47 1.35L5.41 20z\"/>\n",
              "  </svg>\n",
              "      </button>\n",
              "      \n",
              "  <style>\n",
              "    .colab-df-container {\n",
              "      display:flex;\n",
              "      flex-wrap:wrap;\n",
              "      gap: 12px;\n",
              "    }\n",
              "\n",
              "    .colab-df-convert {\n",
              "      background-color: #E8F0FE;\n",
              "      border: none;\n",
              "      border-radius: 50%;\n",
              "      cursor: pointer;\n",
              "      display: none;\n",
              "      fill: #1967D2;\n",
              "      height: 32px;\n",
              "      padding: 0 0 0 0;\n",
              "      width: 32px;\n",
              "    }\n",
              "\n",
              "    .colab-df-convert:hover {\n",
              "      background-color: #E2EBFA;\n",
              "      box-shadow: 0px 1px 2px rgba(60, 64, 67, 0.3), 0px 1px 3px 1px rgba(60, 64, 67, 0.15);\n",
              "      fill: #174EA6;\n",
              "    }\n",
              "\n",
              "    [theme=dark] .colab-df-convert {\n",
              "      background-color: #3B4455;\n",
              "      fill: #D2E3FC;\n",
              "    }\n",
              "\n",
              "    [theme=dark] .colab-df-convert:hover {\n",
              "      background-color: #434B5C;\n",
              "      box-shadow: 0px 1px 3px 1px rgba(0, 0, 0, 0.15);\n",
              "      filter: drop-shadow(0px 1px 2px rgba(0, 0, 0, 0.3));\n",
              "      fill: #FFFFFF;\n",
              "    }\n",
              "  </style>\n",
              "\n",
              "      <script>\n",
              "        const buttonEl =\n",
              "          document.querySelector('#df-4718e288-4064-493a-b390-c67e61406b39 button.colab-df-convert');\n",
              "        buttonEl.style.display =\n",
              "          google.colab.kernel.accessAllowed ? 'block' : 'none';\n",
              "\n",
              "        async function convertToInteractive(key) {\n",
              "          const element = document.querySelector('#df-4718e288-4064-493a-b390-c67e61406b39');\n",
              "          const dataTable =\n",
              "            await google.colab.kernel.invokeFunction('convertToInteractive',\n",
              "                                                     [key], {});\n",
              "          if (!dataTable) return;\n",
              "\n",
              "          const docLinkHtml = 'Like what you see? Visit the ' +\n",
              "            '<a target=\"_blank\" href=https://colab.research.google.com/notebooks/data_table.ipynb>data table notebook</a>'\n",
              "            + ' to learn more about interactive tables.';\n",
              "          element.innerHTML = '';\n",
              "          dataTable['output_type'] = 'display_data';\n",
              "          await google.colab.output.renderOutput(dataTable, element);\n",
              "          const docLink = document.createElement('div');\n",
              "          docLink.innerHTML = docLinkHtml;\n",
              "          element.appendChild(docLink);\n",
              "        }\n",
              "      </script>\n",
              "    </div>\n",
              "  </div>\n",
              "  "
            ]
          },
          "metadata": {},
          "execution_count": 92
        }
      ]
    },
    {
      "cell_type": "code",
      "source": [
        "plt.figure(figsize=(8, 4))\n",
        "plt.ylabel(\"Liczba zakażeń [tys.]\", fontsize = 8)\n",
        "plt.xticks(rotation = 45)\n",
        "plt.title(\"Wykres liczby zakażeń na COVID-19 w Polsce pomiędzy 2020/09/21 - 2021/09/21\", fontsize = 10)\n",
        "plt.plot(df_2_wave.date, df_2_wave.new_cases/1000)\n",
        "#plt.xlim([datetime.date(2020,3,4),datetime.date(2020, 10, 10)])\n",
        "ax = plt.gca()\n",
        "ax.spines['top'].set_visible(False)\n",
        "ax.spines['right'].set_visible(False);"
      ],
      "metadata": {
        "colab": {
          "base_uri": "https://localhost:8080/",
          "height": 306
        },
        "id": "lVdUCujWbOnF",
        "outputId": "8d0feb20-779a-4b9d-fab2-908576b9b9fc"
      },
      "id": "lVdUCujWbOnF",
      "execution_count": 93,
      "outputs": [
        {
          "output_type": "display_data",
          "data": {
            "text/plain": [
              "<Figure size 576x288 with 1 Axes>"
            ],
            "image/png": "[encoded data removed]"
          },
          "metadata": {
            "needs_background": "light"
          }
        }
      ]
    },
    {
      "cell_type": "code",
      "source": [
        "empirical_counts_2_wave, empirical_frequency_2_wave, total_count_2_wave, digit_2_wave = count_first_digit(df_2_wave['new_cases'])\n",
        "\n",
        "first_digit_chart(empirical_frequency_2_wave, theoretical_1st_number)"
      ],
      "metadata": {
        "colab": {
          "base_uri": "https://localhost:8080/",
          "height": 334
        },
        "id": "uPu-l14LbWMr",
        "outputId": "f4a539a7-f53d-452f-a5eb-3a3529e7b6f3"
      },
      "id": "uPu-l14LbWMr",
      "execution_count": 94,
      "outputs": [
        {
          "output_type": "display_data",
          "data": {
            "text/plain": [
              "<Figure size 720x360 with 1 Axes>"
            ],
            "image/png": "[encoded data removed]"
          },
          "metadata": {
            "needs_background": "light"
          }
        }
      ]
    },
    {
      "cell_type": "code",
      "source": [
        "data = df_1_wave['new_cases']\n",
        "# Get only non-zero values\n",
        "data = data[data>=1]\n",
        "\n",
        "# Get the first digits\n",
        "first_digits = list(map(lambda x: int(str(x)[0]), data))\n",
        "\n",
        "\n",
        "# Count occurences. Make sure every position is for [1-9]\n",
        "empirical_counts = np.zeros(9)\n",
        "digit = []\n",
        "for i in range(1, 10):\n",
        "    empirical_counts[i - 1] = first_digits.count(i)\n",
        "    digit.append(i)\n",
        "\n",
        "# Total amount\n",
        "total_count = sum(empirical_counts)\n",
        "# Make percentage\n",
        "empirical_frequency = [(i / total_count) for i in empirical_counts]\n",
        "# Return\n",
        "#return(empirical_counts, empirical_frequency, total_count, digit)"
      ],
      "metadata": {
        "id": "oWpKlNz8Y6F3"
      },
      "id": "oWpKlNz8Y6F3",
      "execution_count": 55,
      "outputs": []
    },
    {
      "cell_type": "code",
      "source": [
        "data"
      ],
      "metadata": {
        "colab": {
          "base_uri": "https://localhost:8080/"
        },
        "id": "_999IK7jZSN1",
        "outputId": "da8121f6-16b0-4caf-852a-e0b7569dadbe"
      },
      "id": "_999IK7jZSN1",
      "execution_count": 56,
      "outputs": [
        {
          "output_type": "execute_result",
          "data": {
            "text/plain": [
              "29     392\n",
              "30     437\n",
              "31     244\n",
              "32     475\n",
              "33     311\n",
              "      ... \n",
              "134    333\n",
              "135    353\n",
              "136    339\n",
              "137    358\n",
              "138    279\n",
              "Name: new_cases, Length: 110, dtype: int64"
            ]
          },
          "metadata": {},
          "execution_count": 56
        }
      ]
    },
    {
      "cell_type": "code",
      "source": [
        "df.head(10)"
      ],
      "metadata": {
        "colab": {
          "base_uri": "https://localhost:8080/",
          "height": 363
        },
        "id": "PBTIE2NHZS-n",
        "outputId": "4fec9584-73aa-41a3-beeb-60dc3ac1e800"
      },
      "id": "PBTIE2NHZS-n",
      "execution_count": 96,
      "outputs": [
        {
          "output_type": "execute_result",
          "data": {
            "text/plain": [
              "        date  new_cases\n",
              "0 2020-03-04          1\n",
              "1 2020-03-05          0\n",
              "2 2020-03-06          4\n",
              "3 2020-03-07          0\n",
              "4 2020-03-08          6\n",
              "5 2020-03-09          5\n",
              "6 2020-03-10          6\n",
              "7 2020-03-11          9\n",
              "8 2020-03-12         18\n",
              "9 2020-03-13         19"
            ],
            "text/html": [
              "\n",
              "  <div id=\"df-5c1b0ed0-048a-42ac-8b8d-610a2825b423\">\n",
              "    <div class=\"colab-df-container\">\n",
              "      <div>\n",
              "<style scoped>\n",
              "    .dataframe tbody tr th:only-of-type {\n",
              "        vertical-align: middle;\n",
              "    }\n",
              "\n",
              "    .dataframe tbody tr th {\n",
              "        vertical-align: top;\n",
              "    }\n",
              "\n",
              "    .dataframe thead th {\n",
              "        text-align: right;\n",
              "    }\n",
              "</style>\n",
              "<table border=\"1\" class=\"dataframe\">\n",
              "  <thead>\n",
              "    <tr style=\"text-align: right;\">\n",
              "      <th></th>\n",
              "      <th>date</th>\n",
              "      <th>new_cases</th>\n",
              "    </tr>\n",
              "  </thead>\n",
              "  <tbody>\n",
              "    <tr>\n",
              "      <th>0</th>\n",
              "      <td>2020-03-04</td>\n",
              "      <td>1</td>\n",
              "    </tr>\n",
              "    <tr>\n",
              "      <th>1</th>\n",
              "      <td>2020-03-05</td>\n",
              "      <td>0</td>\n",
              "    </tr>\n",
              "    <tr>\n",
              "      <th>2</th>\n",
              "      <td>2020-03-06</td>\n",
              "      <td>4</td>\n",
              "    </tr>\n",
              "    <tr>\n",
              "      <th>3</th>\n",
              "      <td>2020-03-07</td>\n",
              "      <td>0</td>\n",
              "    </tr>\n",
              "    <tr>\n",
              "      <th>4</th>\n",
              "      <td>2020-03-08</td>\n",
              "      <td>6</td>\n",
              "    </tr>\n",
              "    <tr>\n",
              "      <th>5</th>\n",
              "      <td>2020-03-09</td>\n",
              "      <td>5</td>\n",
              "    </tr>\n",
              "    <tr>\n",
              "      <th>6</th>\n",
              "      <td>2020-03-10</td>\n",
              "      <td>6</td>\n",
              "    </tr>\n",
              "    <tr>\n",
              "      <th>7</th>\n",
              "      <td>2020-03-11</td>\n",
              "      <td>9</td>\n",
              "    </tr>\n",
              "    <tr>\n",
              "      <th>8</th>\n",
              "      <td>2020-03-12</td>\n",
              "      <td>18</td>\n",
              "    </tr>\n",
              "    <tr>\n",
              "      <th>9</th>\n",
              "      <td>2020-03-13</td>\n",
              "      <td>19</td>\n",
              "    </tr>\n",
              "  </tbody>\n",
              "</table>\n",
              "</div>\n",
              "      <button class=\"colab-df-convert\" onclick=\"convertToInteractive('df-5c1b0ed0-048a-42ac-8b8d-610a2825b423')\"\n",
              "              title=\"Convert this dataframe to an interactive table.\"\n",
              "              style=\"display:none;\">\n",
              "        \n",
              "  <svg xmlns=\"http://www.w3.org/2000/svg\" height=\"24px\"viewBox=\"0 0 24 24\"\n",
              "       width=\"24px\">\n",
              "    <path d=\"M0 0h24v24H0V0z\" fill=\"none\"/>\n",
              "    <path d=\"M18.56 5.44l.94 2.06.94-2.06 2.06-.94-2.06-.94-.94-2.06-.94 2.06-2.06.94zm-11 1L8.5 8.5l.94-2.06 2.06-.94-2.06-.94L8.5 2.5l-.94 2.06-2.06.94zm10 10l.94 2.06.94-2.06 2.06-.94-2.06-.94-.94-2.06-.94 2.06-2.06.94z\"/><path d=\"M17.41 7.96l-1.37-1.37c-.4-.4-.92-.59-1.43-.59-.52 0-1.04.2-1.43.59L10.3 9.45l-7.72 7.72c-.78.78-.78 2.05 0 2.83L4 21.41c.39.39.9.59 1.41.59.51 0 1.02-.2 1.41-.59l7.78-7.78 2.81-2.81c.8-.78.8-2.07 0-2.86zM5.41 20L4 18.59l7.72-7.72 1.47 1.35L5.41 20z\"/>\n",
              "  </svg>\n",
              "      </button>\n",
              "      \n",
              "  <style>\n",
              "    .colab-df-container {\n",
              "      display:flex;\n",
              "      flex-wrap:wrap;\n",
              "      gap: 12px;\n",
              "    }\n",
              "\n",
              "    .colab-df-convert {\n",
              "      background-color: #E8F0FE;\n",
              "      border: none;\n",
              "      border-radius: 50%;\n",
              "      cursor: pointer;\n",
              "      display: none;\n",
              "      fill: #1967D2;\n",
              "      height: 32px;\n",
              "      padding: 0 0 0 0;\n",
              "      width: 32px;\n",
              "    }\n",
              "\n",
              "    .colab-df-convert:hover {\n",
              "      background-color: #E2EBFA;\n",
              "      box-shadow: 0px 1px 2px rgba(60, 64, 67, 0.3), 0px 1px 3px 1px rgba(60, 64, 67, 0.15);\n",
              "      fill: #174EA6;\n",
              "    }\n",
              "\n",
              "    [theme=dark] .colab-df-convert {\n",
              "      background-color: #3B4455;\n",
              "      fill: #D2E3FC;\n",
              "    }\n",
              "\n",
              "    [theme=dark] .colab-df-convert:hover {\n",
              "      background-color: #434B5C;\n",
              "      box-shadow: 0px 1px 3px 1px rgba(0, 0, 0, 0.15);\n",
              "      filter: drop-shadow(0px 1px 2px rgba(0, 0, 0, 0.3));\n",
              "      fill: #FFFFFF;\n",
              "    }\n",
              "  </style>\n",
              "\n",
              "      <script>\n",
              "        const buttonEl =\n",
              "          document.querySelector('#df-5c1b0ed0-048a-42ac-8b8d-610a2825b423 button.colab-df-convert');\n",
              "        buttonEl.style.display =\n",
              "          google.colab.kernel.accessAllowed ? 'block' : 'none';\n",
              "\n",
              "        async function convertToInteractive(key) {\n",
              "          const element = document.querySelector('#df-5c1b0ed0-048a-42ac-8b8d-610a2825b423');\n",
              "          const dataTable =\n",
              "            await google.colab.kernel.invokeFunction('convertToInteractive',\n",
              "                                                     [key], {});\n",
              "          if (!dataTable) return;\n",
              "\n",
              "          const docLinkHtml = 'Like what you see? Visit the ' +\n",
              "            '<a target=\"_blank\" href=https://colab.research.google.com/notebooks/data_table.ipynb>data table notebook</a>'\n",
              "            + ' to learn more about interactive tables.';\n",
              "          element.innerHTML = '';\n",
              "          dataTable['output_type'] = 'display_data';\n",
              "          await google.colab.output.renderOutput(dataTable, element);\n",
              "          const docLink = document.createElement('div');\n",
              "          docLink.innerHTML = docLinkHtml;\n",
              "          element.appendChild(docLink);\n",
              "        }\n",
              "      </script>\n",
              "    </div>\n",
              "  </div>\n",
              "  "
            ]
          },
          "metadata": {},
          "execution_count": 96
        }
      ]
    },
    {
      "cell_type": "code",
      "source": [
        "df.tail()"
      ],
      "metadata": {
        "colab": {
          "base_uri": "https://localhost:8080/",
          "height": 206
        },
        "id": "Hhk5IOz1fWJM",
        "outputId": "8df812e0-5fc3-4f5d-e394-8847683806d2"
      },
      "id": "Hhk5IOz1fWJM",
      "execution_count": 97,
      "outputs": [
        {
          "output_type": "execute_result",
          "data": {
            "text/plain": [
              "          date  new_cases\n",
              "730 2022-03-04      12489\n",
              "731 2022-03-05      12725\n",
              "732 2022-03-06       7698\n",
              "733 2022-03-07       5583\n",
              "734 2022-03-08      13176"
            ],
            "text/html": [
              "\n",
              "  <div id=\"df-771aa1d0-3cac-4e7a-929d-34c887627983\">\n",
              "    <div class=\"colab-df-container\">\n",
              "      <div>\n",
              "<style scoped>\n",
              "    .dataframe tbody tr th:only-of-type {\n",
              "        vertical-align: middle;\n",
              "    }\n",
              "\n",
              "    .dataframe tbody tr th {\n",
              "        vertical-align: top;\n",
              "    }\n",
              "\n",
              "    .dataframe thead th {\n",
              "        text-align: right;\n",
              "    }\n",
              "</style>\n",
              "<table border=\"1\" class=\"dataframe\">\n",
              "  <thead>\n",
              "    <tr style=\"text-align: right;\">\n",
              "      <th></th>\n",
              "      <th>date</th>\n",
              "      <th>new_cases</th>\n",
              "    </tr>\n",
              "  </thead>\n",
              "  <tbody>\n",
              "    <tr>\n",
              "      <th>730</th>\n",
              "      <td>2022-03-04</td>\n",
              "      <td>12489</td>\n",
              "    </tr>\n",
              "    <tr>\n",
              "      <th>731</th>\n",
              "      <td>2022-03-05</td>\n",
              "      <td>12725</td>\n",
              "    </tr>\n",
              "    <tr>\n",
              "      <th>732</th>\n",
              "      <td>2022-03-06</td>\n",
              "      <td>7698</td>\n",
              "    </tr>\n",
              "    <tr>\n",
              "      <th>733</th>\n",
              "      <td>2022-03-07</td>\n",
              "      <td>5583</td>\n",
              "    </tr>\n",
              "    <tr>\n",
              "      <th>734</th>\n",
              "      <td>2022-03-08</td>\n",
              "      <td>13176</td>\n",
              "    </tr>\n",
              "  </tbody>\n",
              "</table>\n",
              "</div>\n",
              "      <button class=\"colab-df-convert\" onclick=\"convertToInteractive('df-771aa1d0-3cac-4e7a-929d-34c887627983')\"\n",
              "              title=\"Convert this dataframe to an interactive table.\"\n",
              "              style=\"display:none;\">\n",
              "        \n",
              "  <svg xmlns=\"http://www.w3.org/2000/svg\" height=\"24px\"viewBox=\"0 0 24 24\"\n",
              "       width=\"24px\">\n",
              "    <path d=\"M0 0h24v24H0V0z\" fill=\"none\"/>\n",
              "    <path d=\"M18.56 5.44l.94 2.06.94-2.06 2.06-.94-2.06-.94-.94-2.06-.94 2.06-2.06.94zm-11 1L8.5 8.5l.94-2.06 2.06-.94-2.06-.94L8.5 2.5l-.94 2.06-2.06.94zm10 10l.94 2.06.94-2.06 2.06-.94-2.06-.94-.94-2.06-.94 2.06-2.06.94z\"/><path d=\"M17.41 7.96l-1.37-1.37c-.4-.4-.92-.59-1.43-.59-.52 0-1.04.2-1.43.59L10.3 9.45l-7.72 7.72c-.78.78-.78 2.05 0 2.83L4 21.41c.39.39.9.59 1.41.59.51 0 1.02-.2 1.41-.59l7.78-7.78 2.81-2.81c.8-.78.8-2.07 0-2.86zM5.41 20L4 18.59l7.72-7.72 1.47 1.35L5.41 20z\"/>\n",
              "  </svg>\n",
              "      </button>\n",
              "      \n",
              "  <style>\n",
              "    .colab-df-container {\n",
              "      display:flex;\n",
              "      flex-wrap:wrap;\n",
              "      gap: 12px;\n",
              "    }\n",
              "\n",
              "    .colab-df-convert {\n",
              "      background-color: #E8F0FE;\n",
              "      border: none;\n",
              "      border-radius: 50%;\n",
              "      cursor: pointer;\n",
              "      display: none;\n",
              "      fill: #1967D2;\n",
              "      height: 32px;\n",
              "      padding: 0 0 0 0;\n",
              "      width: 32px;\n",
              "    }\n",
              "\n",
              "    .colab-df-convert:hover {\n",
              "      background-color: #E2EBFA;\n",
              "      box-shadow: 0px 1px 2px rgba(60, 64, 67, 0.3), 0px 1px 3px 1px rgba(60, 64, 67, 0.15);\n",
              "      fill: #174EA6;\n",
              "    }\n",
              "\n",
              "    [theme=dark] .colab-df-convert {\n",
              "      background-color: #3B4455;\n",
              "      fill: #D2E3FC;\n",
              "    }\n",
              "\n",
              "    [theme=dark] .colab-df-convert:hover {\n",
              "      background-color: #434B5C;\n",
              "      box-shadow: 0px 1px 3px 1px rgba(0, 0, 0, 0.15);\n",
              "      filter: drop-shadow(0px 1px 2px rgba(0, 0, 0, 0.3));\n",
              "      fill: #FFFFFF;\n",
              "    }\n",
              "  </style>\n",
              "\n",
              "      <script>\n",
              "        const buttonEl =\n",
              "          document.querySelector('#df-771aa1d0-3cac-4e7a-929d-34c887627983 button.colab-df-convert');\n",
              "        buttonEl.style.display =\n",
              "          google.colab.kernel.accessAllowed ? 'block' : 'none';\n",
              "\n",
              "        async function convertToInteractive(key) {\n",
              "          const element = document.querySelector('#df-771aa1d0-3cac-4e7a-929d-34c887627983');\n",
              "          const dataTable =\n",
              "            await google.colab.kernel.invokeFunction('convertToInteractive',\n",
              "                                                     [key], {});\n",
              "          if (!dataTable) return;\n",
              "\n",
              "          const docLinkHtml = 'Like what you see? Visit the ' +\n",
              "            '<a target=\"_blank\" href=https://colab.research.google.com/notebooks/data_table.ipynb>data table notebook</a>'\n",
              "            + ' to learn more about interactive tables.';\n",
              "          element.innerHTML = '';\n",
              "          dataTable['output_type'] = 'display_data';\n",
              "          await google.colab.output.renderOutput(dataTable, element);\n",
              "          const docLink = document.createElement('div');\n",
              "          docLink.innerHTML = docLinkHtml;\n",
              "          element.appendChild(docLink);\n",
              "        }\n",
              "      </script>\n",
              "    </div>\n",
              "  </div>\n",
              "  "
            ]
          },
          "metadata": {},
          "execution_count": 97
        }
      ]
    },
    {
      "cell_type": "code",
      "source": [
        "df_d=load_data('Poland_COVID_deaths.xlsx')\n",
        "df_d=df_d.dropna()\n",
        "df_d.dropna(inplace=True)\n",
        "df_d.reset_index(drop=True, inplace=True)\n",
        "df_d['deaths']=df_d['deaths'].astype(int)"
      ],
      "metadata": {
        "id": "9yQ-vI06k1iN"
      },
      "id": "9yQ-vI06k1iN",
      "execution_count": 99,
      "outputs": []
    },
    {
      "cell_type": "code",
      "source": [
        "empirical_counts_deaths, empirical_frequency_deaths, total_count_deaths, digit_deaths = count_first_digit(df_d['deaths'])"
      ],
      "metadata": {
        "id": "ZlLUfhqcn1yG"
      },
      "id": "ZlLUfhqcn1yG",
      "execution_count": 100,
      "outputs": []
    },
    {
      "cell_type": "code",
      "source": [
        "plt.figure(figsize=(8, 4))\n",
        "plt.ylabel(\"Liczba zakażeń [tys.]\", fontsize = 8)\n",
        "plt.xticks(rotation = 45)\n",
        "plt.title(\"Wykres liczby zgonów na COVID-19 w Polsce\", fontsize = 10)\n",
        "plt.plot(df_d.date, df_d.deaths/1000)\n",
        "#plt.xlim([datetime.date(2020,3,4),datetime.date(2020, 10, 10)])\n",
        "ax = plt.gca()\n",
        "ax.spines['top'].set_visible(False)\n",
        "ax.spines['right'].set_visible(False);"
      ],
      "metadata": {
        "colab": {
          "base_uri": "https://localhost:8080/",
          "height": 306
        },
        "id": "H99PU9T-oM74",
        "outputId": "2bec0ea2-c797-4268-8ac5-6fd5dda0d032"
      },
      "id": "H99PU9T-oM74",
      "execution_count": 102,
      "outputs": [
        {
          "output_type": "display_data",
          "data": {
            "text/plain": [
              "<Figure size 576x288 with 1 Axes>"
            ],
            "image/png": "[encoded data removed]"
          },
          "metadata": {
            "needs_background": "light"
          }
        }
      ]
    },
    {
      "cell_type": "code",
      "source": [
        "first_digit_chart(empirical_frequency_deaths, theoretical_1st_number)"
      ],
      "metadata": {
        "colab": {
          "base_uri": "https://localhost:8080/",
          "height": 334
        },
        "id": "euMrV51qoCuy",
        "outputId": "eca55620-5e49-4a9b-b276-ddba64912985"
      },
      "id": "euMrV51qoCuy",
      "execution_count": 103,
      "outputs": [
        {
          "output_type": "display_data",
          "data": {
            "text/plain": [
              "<Figure size 720x360 with 1 Axes>"
            ],
            "image/png": "[encoded data removed]"
          },
          "metadata": {
            "needs_background": "light"
          }
        }
      ]
    },
    {
      "cell_type": "code",
      "source": [],
      "metadata": {
        "id": "KRE8CVJqoGif"
      },
      "id": "KRE8CVJqoGif",
      "execution_count": null,
      "outputs": []
    }
  ],
  "metadata": {
    "kernelspec": {
      "display_name": "Python 3 (ipykernel)",
      "language": "python",
      "name": "python3"
    },
    "language_info": {
      "codemirror_mode": {
        "name": "ipython",
        "version": 3
      },
      "file_extension": ".py",
      "mimetype": "text/x-python",
      "name": "python",
      "nbconvert_exporter": "python",
      "pygments_lexer": "ipython3",
      "version": "3.9.7"
    },
    "colab": {
      "provenance": []
    }
  },
  "nbformat": 4,
  "nbformat_minor": 5
}